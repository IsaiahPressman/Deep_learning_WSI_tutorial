{
 "cells": [
  {
   "cell_type": "markdown",
   "metadata": {},
   "source": [
    "# ### TODO: Outline image here###"
   ]
  },
  {
   "cell_type": "markdown",
   "metadata": {},
   "source": [
    "# Table of contents\n",
    "\n",
    "1. [Libraries & Environment](#Libraries-&-Environment)\n",
    "1. [Data Preprocessing](#Data-Preprocessing)\n",
    "    1. Tiling\n",
    "    1. Filtering out background tiles\n",
    "    1. Macenko normalization\n",
    "    1. Tumor detection\n",
    "1. [Training Deep Learning Models](#Training-Deep-Learning-Models)\n",
    "    1. Data splitting\n",
    "    1. Model and data loading\n",
    "    1. Main training loop\n",
    "    1. Miscellaneous\n",
    "1. [Evaluating & Visualizing Performance](#Evaluating-&-Visualizing-Performance)\n",
    "    1. Patient-level vs. tile-level evaluation\n",
    "    1. Visualizing performance over time\n",
    "    1. On improving performance\n",
    "1. [Bonus: WSI annotations](#WSI-annotations)"
   ]
  },
  {
   "cell_type": "markdown",
   "metadata": {},
   "source": [
    "# Libraries & Environment\n",
    "\n",
    "The base environment that I use can be installed using the create_conda_env.sh bash script.\n",
    "\n",
    "NB: As of June 2021, when installing OpenSlide on Linux, it will not work correctly with some image types due to a broken dependency. (I've noticed this problem for .mrxs images in particular) In order to repair this issue, you can install version 0.40.0 of the pixman library. (Installed automatically in the create_conda_env.sh script) If you notice the slide images look like like the image below, or throw an error when you view them, try this solution.\n",
    "\n",
    "TODO: insert image"
   ]
  },
  {
   "cell_type": "code",
   "execution_count": 1,
   "metadata": {},
   "outputs": [],
   "source": [
    "import copy\n",
    "import matplotlib.pyplot as plt\n",
    "import numpy as np\n",
    "from openslide import OpenSlide, OpenSlideError\n",
    "import pandas as pd\n",
    "from pathlib import Path\n",
    "from PIL import Image\n",
    "import re\n",
    "from scipy import ndimage\n",
    "from sklearn.model_selection import train_test_split\n",
    "from sklearn.metrics import roc_auc_score\n",
    "import shutil\n",
    "import time\n",
    "import tqdm\n",
    "import traceback\n",
    "import warnings\n",
    "%matplotlib inline\n",
    "\n",
    "# Pytorch imports\n",
    "import torch\n",
    "from torch import nn\n",
    "import torch.nn.functional as F\n",
    "from torch.utils import data\n",
    "from torchvision import datasets, models, transforms\n",
    "\n",
    "# Custom imports\n",
    "from library.eval_utils import find_optimal_threshold\n",
    "from library.MacenkoNormalizer import MacenkoNormalizer\n",
    "from library.model_utils import load_saved_model_for_inference, load_model_arch\n",
    "\n",
    "# DEVICE determines which GPU (or CPU) the deep learning code will be run on\n",
    "# DEVICE = torch.device('cpu')\n",
    "DEVICE = torch.device('cuda:0')"
   ]
  },
  {
   "cell_type": "markdown",
   "metadata": {},
   "source": [
    "# Data Preprocessing\n",
    "\n",
    "In order to prepare the WSI images for deep learning training and inference, a number of preprocessing steps must be applied:\n",
    "\n",
    "1. Images are broken into many small tiles (usually 256x256 microns)\n",
    "1. Tiles are filtered to exclude non-tissue background regions\n",
    "1. Tiles are Macenko-normalized\n",
    "1. Tiles are filtered to exclude non-tumorous tissue regions\n",
    "\n",
    "These steps are laid out in example code below. However, when applying this pipeline at scale, the implementation should include multiprocessing and/or CuPy (for Macenko normalization) as these additions provide enormous speedups."
   ]
  },
  {
   "cell_type": "code",
   "execution_count": 2,
   "metadata": {},
   "outputs": [
    {
     "name": "stdout",
     "output_type": "stream",
     "text": [
      "Ignoring WSIs/MSS/TCGA-4N-A93T-01Z-00-DX1.82E240B1-22C3-46E3-891F-0DCE35C43F8B.svs, as it has already been processed.\n",
      "Ignoring WSIs/MSS/TCGA-3L-AA1B-01Z-00-DX1.8923A151-A690-40B7-9E5A-FCBEDFC2394F.svs, as it has already been processed.\n",
      "Ignoring WSIs/MSI-H/TCGA-5M-AATE-01Z-00-DX1.483FFD2F-61A1-477E-8F94-157383803FC7.svs, as it has already been processed.\n",
      "Ignoring WSIs/MSI-H/TCGA-5M-AAT6-01Z-00-DX1.8834C952-14E3-4491-8156-52FC917BB014.svs, as it has already been processed.\n",
      "Masking and normalizing 0 tiles from 0 whole slide images.\n"
     ]
    }
   ],
   "source": [
    "# MICRONS_PER_TILE defines the tile edge length used when breaking WSIs into smaller images\n",
    "MICRONS_PER_TILE = 256.\n",
    "\n",
    "# Initialize the Macenko Normalizer\n",
    "reference_img = np.array(Image.open('library/macenko_reference_img.png').convert('RGB'))\n",
    "normalizer = MacenkoNormalizer()\n",
    "normalizer.fit(reference_img)\n",
    "\n",
    "# Find all WSIs and check for errors opening the file or finding the microns-per-pixel values \n",
    "base_path = Path('WSIs')\n",
    "base_save_path = Path('tiled_WSIs')\n",
    "wsi_paths = base_path.rglob('*.svs')\n",
    "save_paths = []\n",
    "wsi_paths_to_normalize = []\n",
    "total_num_tiles = 0\n",
    "for wsi_path in wsi_paths:\n",
    "    try:\n",
    "        with OpenSlide(str(wsi_path)) as wsi:\n",
    "            sub_path = Path(str(wsi_path)[len(str(base_path)) + 1:-len(wsi_path.suffix)])\n",
    "            save_path = base_save_path / sub_path\n",
    "\n",
    "            if (save_path / 'Finished.txt').exists():\n",
    "                print('Ignoring {}, as it has already been processed.'.format(wsi_path))\n",
    "            else:\n",
    "                pixels_per_tile_x = int(MICRONS_PER_TILE / float(wsi.properties['openslide.mpp-x']))\n",
    "                pixels_per_tile_y = int(MICRONS_PER_TILE / float(wsi.properties['openslide.mpp-y']))\n",
    "                wsi_paths_to_normalize.append(wsi_path)\n",
    "                save_paths.append(save_path)\n",
    "                save_path.mkdir(parents=True, exist_ok=True)\n",
    "                total_num_tiles += (\n",
    "                        len(range(pixels_per_tile_x, wsi.dimensions[0] - pixels_per_tile_x, pixels_per_tile_x)) *\n",
    "                        len(range(pixels_per_tile_y, wsi.dimensions[1] - pixels_per_tile_y, pixels_per_tile_y)))\n",
    "    except OpenSlideError:\n",
    "        print('Ignoring {}, as it cannot be opened by OpenSlide.'.format(wsi_path))\n",
    "    except KeyError:\n",
    "        print('Ignoring {}, as it does not have a defined microns-per-pixel value'.format(wsi_path))\n",
    "\n",
    "print(f'Masking and normalizing {total_num_tiles} tiles from {len(wsi_paths_to_normalize)} whole slide images.')"
   ]
  },
  {
   "cell_type": "markdown",
   "metadata": {},
   "source": [
    "This function, given a whole slide image path and target save path, masks and normalizes all tissue tiles and then saves them into pngs."
   ]
  },
  {
   "cell_type": "code",
   "execution_count": 3,
   "metadata": {},
   "outputs": [],
   "source": [
    "def mask_and_normalize_wsi(wsi_path, save_path, pbar):\n",
    "    num_tiles_kept = 0\n",
    "    try:\n",
    "        with OpenSlide(str(wsi_path)) as wsi:\n",
    "            pptx = int(MICRONS_PER_TILE / float(wsi.properties['openslide.mpp-x']))\n",
    "            ppty = int(MICRONS_PER_TILE / float(wsi.properties['openslide.mpp-y']))\n",
    "            # Leave out border of image\n",
    "            for x in range(pptx, wsi.dimensions[0] - pptx, pptx):\n",
    "                for y in range(ppty, wsi.dimensions[1] - ppty, ppty):\n",
    "                    tile = wsi.read_region((x, y), level=0, size=(pptx, ppty)).convert('RGB')\n",
    "                    # Mask away all-white and all-black background regions\n",
    "                    mask = tile.convert(mode='L').point(lut=lambda p: 220 > p > 10, mode='1')\n",
    "                    mask = ndimage.binary_fill_holes(mask)\n",
    "                    if np.sum(mask).astype(float) / mask.size > 0.5:\n",
    "                        with warnings.catch_warnings():\n",
    "                            warnings.simplefilter('ignore')\n",
    "                            try:\n",
    "                                # Normalize the tile\n",
    "                                tile = normalizer.transform(np.array(tile))\n",
    "                                tile = Image.fromarray(tile)\n",
    "                                # Resize the image to 224x224\n",
    "                                tile = tile.resize((224, 224), Image.LANCZOS)\n",
    "                                num_tiles_kept += 1\n",
    "                                filename = f'{wsi_path.stem}__x{x}_y{y}_dx{pptx}_dy{ppty}.png'\n",
    "                                tile.save(save_path / filename, format='PNG')\n",
    "                            except np.linalg.LinAlgError:\n",
    "                                pass\n",
    "                    pbar.update()\n",
    "    except OpenSlideError as ex:\n",
    "        print('\\nUnable to process {}:'.format(wsi_path))\n",
    "        print(''.join(traceback.format_exception(etype=type(ex), value=ex, tb=ex.__traceback__)))\n",
    "        shutil.rmtree(save_path)\n",
    "        return 0\n",
    "\n",
    "    with open(save_path / 'Finished.txt', 'w+') as file:\n",
    "        file.write('Kept and processed {} tiles.'.format(num_tiles_kept))\n",
    "    return num_tiles_kept"
   ]
  },
  {
   "cell_type": "markdown",
   "metadata": {},
   "source": [
    "### Tiling, background filtering, and Macenko normalization"
   ]
  },
  {
   "cell_type": "code",
   "execution_count": 4,
   "metadata": {},
   "outputs": [
    {
     "name": "stderr",
     "output_type": "stream",
     "text": [
      "0it [00:00, ?it/s]\n"
     ]
    },
    {
     "name": "stdout",
     "output_type": "stream",
     "text": [
      "2051 tiles from patient TCGA-4N-A93T-01Z-00-DX1 saved to tiled_WSIs/MSS/TCGA-4N-A93T-01Z-00-DX1.82E240B1-22C3-46E3-891F-0DCE35C43F8B\n",
      "2960 tiles from patient TCGA-3L-AA1B-01Z-00-DX1 saved to tiled_WSIs/MSS/TCGA-3L-AA1B-01Z-00-DX1.8923A151-A690-40B7-9E5A-FCBEDFC2394F\n",
      "4172 tiles from patient TCGA-5M-AAT6-01Z-00-DX1 saved to tiled_WSIs/MSI-H/TCGA-5M-AAT6-01Z-00-DX1.8834C952-14E3-4491-8156-52FC917BB014\n",
      "6951 tiles from patient TCGA-5M-AATE-01Z-00-DX1 saved to tiled_WSIs/MSI-H/TCGA-5M-AATE-01Z-00-DX1.483FFD2F-61A1-477E-8F94-157383803FC7\n",
      "16134 tiles were saved and normalized\n"
     ]
    }
   ],
   "source": [
    "assert len(wsi_paths_to_normalize) == len(save_paths)\n",
    "with tqdm.tqdm(total=total_num_tiles) as pbar:\n",
    "    for wsi_path, save_path in zip(wsi_paths_to_normalize, save_paths):\n",
    "        mask_and_normalize_wsi(wsi_path, save_path, pbar)\n",
    "# Wait a moment for pbar to close\n",
    "time.sleep(0.25)\n",
    "\n",
    "all_save_paths = [p for p in base_save_path.glob('*/*') if p.is_dir()]\n",
    "total_tiles_kept = 0\n",
    "for save_path in all_save_paths:\n",
    "    with open(save_path / 'Finished.txt', 'r') as f:\n",
    "        info = f.readline()\n",
    "    num_tiles_kept = int(re.search('processed ([0-9]+?) tiles', info).group(1))\n",
    "    total_tiles_kept += num_tiles_kept\n",
    "    print(f'{num_tiles_kept} tiles from patient {save_path.stem} saved to {save_path}')\n",
    "print(f'{total_tiles_kept} tiles were saved and normalized')"
   ]
  },
  {
   "cell_type": "markdown",
   "metadata": {},
   "source": [
    "### Tumor detection\n",
    "\n",
    "Now that WSIs have been broken into normalized tiles, we load these images for tumor detection.\n",
    "\n",
    "NB: Make sure to use `with torch.no_grad():` at inference time."
   ]
  },
  {
   "cell_type": "code",
   "execution_count": 5,
   "metadata": {},
   "outputs": [
    {
     "name": "stdout",
     "output_type": "stream",
     "text": [
      "Loading images for tumor detection...\n",
      "Getting tumor predictions for 16134 tiles in 127 batches.\n"
     ]
    },
    {
     "name": "stderr",
     "output_type": "stream",
     "text": [
      "100%|██████████| 127/127 [00:08<00:00, 14.39it/s]\n"
     ]
    },
    {
     "name": "stdout",
     "output_type": "stream",
     "text": [
      "9806/16134 tiles contain tumorous tissue\n"
     ]
    }
   ],
   "source": [
    "print('Loading images for tumor detection...')\n",
    "img_dataset = datasets.ImageFolder(\n",
    "    base_save_path,\n",
    "    transforms.Compose([\n",
    "        # Images must be of size 224x224 to be passed to most deep learning vision models\n",
    "        transforms.Resize(224),\n",
    "        transforms.ToTensor()\n",
    "    ])\n",
    ")\n",
    "img_dataloader = data.DataLoader(\n",
    "    img_dataset,\n",
    "    batch_size=128,\n",
    "    num_workers=8,\n",
    "    shuffle=False,\n",
    "    pin_memory=True\n",
    ")\n",
    "tumor_detection_model = load_saved_model_for_inference(\n",
    "    'saved_models/resnet18_tumor_detection_exp9.pt',\n",
    "    num_classes=2,\n",
    ").to(DEVICE)\n",
    "\n",
    "print(f'Getting tumor predictions for {len(img_dataset)} tiles in {len(img_dataloader)} batches.')\n",
    "time.sleep(0.25)\n",
    "all_preds = []\n",
    "\n",
    "with torch.no_grad():\n",
    "    for inputs, _ in tqdm.tqdm(img_dataloader):\n",
    "        inputs = inputs.to(DEVICE, non_blocking=True)\n",
    "        outputs = tumor_detection_model(inputs).cpu()\n",
    "        all_preds.append(outputs)\n",
    "all_preds = torch.cat(all_preds, dim=0)\n",
    "time.sleep(0.25)\n",
    "\n",
    "tumorous_tiles = all_preds.argmax(dim=1).flatten()\n",
    "print(f'{tumorous_tiles.sum()}/{len(img_dataset)} tiles contain tumorous tissue')"
   ]
  },
  {
   "cell_type": "code",
   "execution_count": 24,
   "metadata": {},
   "outputs": [
    {
     "name": "stdout",
     "output_type": "stream",
     "text": [
      "Saved tile_info_df to \"tiled_WSIs/tile_info.csv\"\n",
      "Saved patient_info_df to \"tiled_WSIs/patient_info.csv\"\n"
     ]
    },
    {
     "data": {
      "text/html": [
       "<style  type=\"text/css\" >\n",
       "</style><table id=\"T_28b4a_\" ><caption>Patient info dataframe</caption><thead>    <tr>        <th class=\"blank level0\" ></th>        <th class=\"col_heading level0 col0\" >MSI_status</th>    </tr>    <tr>        <th class=\"index_name level0\" >patient_id</th>        <th class=\"blank\" ></th>    </tr></thead><tbody>\n",
       "                <tr>\n",
       "                        <th id=\"T_28b4a_level0_row0\" class=\"row_heading level0 row0\" >TCGA-5M-AAT6-01Z-00-DX1.8834C952-14E3-4491-8156-52FC917BB014</th>\n",
       "                        <td id=\"T_28b4a_row0_col0\" class=\"data row0 col0\" >MSI-H</td>\n",
       "            </tr>\n",
       "            <tr>\n",
       "                        <th id=\"T_28b4a_level0_row1\" class=\"row_heading level0 row1\" >TCGA-5M-AATE-01Z-00-DX1.483FFD2F-61A1-477E-8F94-157383803FC7</th>\n",
       "                        <td id=\"T_28b4a_row1_col0\" class=\"data row1 col0\" >MSI-H</td>\n",
       "            </tr>\n",
       "            <tr>\n",
       "                        <th id=\"T_28b4a_level0_row2\" class=\"row_heading level0 row2\" >TCGA-3L-AA1B-01Z-00-DX1.8923A151-A690-40B7-9E5A-FCBEDFC2394F</th>\n",
       "                        <td id=\"T_28b4a_row2_col0\" class=\"data row2 col0\" >MSS</td>\n",
       "            </tr>\n",
       "            <tr>\n",
       "                        <th id=\"T_28b4a_level0_row3\" class=\"row_heading level0 row3\" >TCGA-4N-A93T-01Z-00-DX1.82E240B1-22C3-46E3-891F-0DCE35C43F8B</th>\n",
       "                        <td id=\"T_28b4a_row3_col0\" class=\"data row3 col0\" >MSS</td>\n",
       "            </tr>\n",
       "    </tbody></table>"
      ],
      "text/plain": [
       "<pandas.io.formats.style.Styler at 0x7f6e53be8f90>"
      ]
     },
     "metadata": {},
     "output_type": "display_data"
    },
    {
     "data": {
      "text/html": [
       "<style  type=\"text/css\" >\n",
       "</style><table id=\"T_975ac_\" ><caption>Tile info dataframe, example rows</caption><thead>    <tr>        <th class=\"blank level0\" ></th>        <th class=\"col_heading level0 col0\" >patient_id</th>        <th class=\"col_heading level0 col1\" >tumor_pred_val</th>        <th class=\"col_heading level0 col2\" >tumor_pred_class</th>        <th class=\"col_heading level0 col3\" >MSI_status</th>    </tr>    <tr>        <th class=\"index_name level0\" >tile_id</th>        <th class=\"blank\" ></th>        <th class=\"blank\" ></th>        <th class=\"blank\" ></th>        <th class=\"blank\" ></th>    </tr></thead><tbody>\n",
       "                <tr>\n",
       "                        <th id=\"T_975ac_level0_row0\" class=\"row_heading level0 row0\" >TCGA-5M-AAT6-01Z-00-DX1.8834C952-14E3-4491-8156-52FC917BB014__x100287_y12156_dx1013_dy1013.png</th>\n",
       "                        <td id=\"T_975ac_row0_col0\" class=\"data row0 col0\" >TCGA-5M-AAT6-01Z-00-DX1.8834C952-14E3-4491-8156-52FC917BB014</td>\n",
       "                        <td id=\"T_975ac_row0_col1\" class=\"data row0 col1\" >0.010808</td>\n",
       "                        <td id=\"T_975ac_row0_col2\" class=\"data row0 col2\" >0</td>\n",
       "                        <td id=\"T_975ac_row0_col3\" class=\"data row0 col3\" >MSI-H</td>\n",
       "            </tr>\n",
       "            <tr>\n",
       "                        <th id=\"T_975ac_level0_row1\" class=\"row_heading level0 row1\" >TCGA-5M-AAT6-01Z-00-DX1.8834C952-14E3-4491-8156-52FC917BB014__x100287_y13169_dx1013_dy1013.png</th>\n",
       "                        <td id=\"T_975ac_row1_col0\" class=\"data row1 col0\" >TCGA-5M-AAT6-01Z-00-DX1.8834C952-14E3-4491-8156-52FC917BB014</td>\n",
       "                        <td id=\"T_975ac_row1_col1\" class=\"data row1 col1\" >0.045893</td>\n",
       "                        <td id=\"T_975ac_row1_col2\" class=\"data row1 col2\" >0</td>\n",
       "                        <td id=\"T_975ac_row1_col3\" class=\"data row1 col3\" >MSI-H</td>\n",
       "            </tr>\n",
       "            <tr>\n",
       "                        <th id=\"T_975ac_level0_row2\" class=\"row_heading level0 row2\" >TCGA-5M-AATE-01Z-00-DX1.483FFD2F-61A1-477E-8F94-157383803FC7__x100287_y10130_dx1013_dy1013.png</th>\n",
       "                        <td id=\"T_975ac_row2_col0\" class=\"data row2 col0\" >TCGA-5M-AATE-01Z-00-DX1.483FFD2F-61A1-477E-8F94-157383803FC7</td>\n",
       "                        <td id=\"T_975ac_row2_col1\" class=\"data row2 col1\" >0.999991</td>\n",
       "                        <td id=\"T_975ac_row2_col2\" class=\"data row2 col2\" >1</td>\n",
       "                        <td id=\"T_975ac_row2_col3\" class=\"data row2 col3\" >MSI-H</td>\n",
       "            </tr>\n",
       "            <tr>\n",
       "                        <th id=\"T_975ac_level0_row3\" class=\"row_heading level0 row3\" >TCGA-5M-AATE-01Z-00-DX1.483FFD2F-61A1-477E-8F94-157383803FC7__x100287_y11143_dx1013_dy1013.png</th>\n",
       "                        <td id=\"T_975ac_row3_col0\" class=\"data row3 col0\" >TCGA-5M-AATE-01Z-00-DX1.483FFD2F-61A1-477E-8F94-157383803FC7</td>\n",
       "                        <td id=\"T_975ac_row3_col1\" class=\"data row3 col1\" >0.999997</td>\n",
       "                        <td id=\"T_975ac_row3_col2\" class=\"data row3 col2\" >1</td>\n",
       "                        <td id=\"T_975ac_row3_col3\" class=\"data row3 col3\" >MSI-H</td>\n",
       "            </tr>\n",
       "            <tr>\n",
       "                        <th id=\"T_975ac_level0_row4\" class=\"row_heading level0 row4\" >TCGA-3L-AA1B-01Z-00-DX1.8923A151-A690-40B7-9E5A-FCBEDFC2394F__x10130_y33429_dx1013_dy1013.png</th>\n",
       "                        <td id=\"T_975ac_row4_col0\" class=\"data row4 col0\" >TCGA-3L-AA1B-01Z-00-DX1.8923A151-A690-40B7-9E5A-FCBEDFC2394F</td>\n",
       "                        <td id=\"T_975ac_row4_col1\" class=\"data row4 col1\" >1.000000</td>\n",
       "                        <td id=\"T_975ac_row4_col2\" class=\"data row4 col2\" >1</td>\n",
       "                        <td id=\"T_975ac_row4_col3\" class=\"data row4 col3\" >MSS</td>\n",
       "            </tr>\n",
       "            <tr>\n",
       "                        <th id=\"T_975ac_level0_row5\" class=\"row_heading level0 row5\" >TCGA-3L-AA1B-01Z-00-DX1.8923A151-A690-40B7-9E5A-FCBEDFC2394F__x10130_y34442_dx1013_dy1013.png</th>\n",
       "                        <td id=\"T_975ac_row5_col0\" class=\"data row5 col0\" >TCGA-3L-AA1B-01Z-00-DX1.8923A151-A690-40B7-9E5A-FCBEDFC2394F</td>\n",
       "                        <td id=\"T_975ac_row5_col1\" class=\"data row5 col1\" >1.000000</td>\n",
       "                        <td id=\"T_975ac_row5_col2\" class=\"data row5 col2\" >1</td>\n",
       "                        <td id=\"T_975ac_row5_col3\" class=\"data row5 col3\" >MSS</td>\n",
       "            </tr>\n",
       "            <tr>\n",
       "                        <th id=\"T_975ac_level0_row6\" class=\"row_heading level0 row6\" >TCGA-4N-A93T-01Z-00-DX1.82E240B1-22C3-46E3-891F-0DCE35C43F8B__x10130_y31403_dx1013_dy1013.png</th>\n",
       "                        <td id=\"T_975ac_row6_col0\" class=\"data row6 col0\" >TCGA-4N-A93T-01Z-00-DX1.82E240B1-22C3-46E3-891F-0DCE35C43F8B</td>\n",
       "                        <td id=\"T_975ac_row6_col1\" class=\"data row6 col1\" >0.010911</td>\n",
       "                        <td id=\"T_975ac_row6_col2\" class=\"data row6 col2\" >0</td>\n",
       "                        <td id=\"T_975ac_row6_col3\" class=\"data row6 col3\" >MSS</td>\n",
       "            </tr>\n",
       "            <tr>\n",
       "                        <th id=\"T_975ac_level0_row7\" class=\"row_heading level0 row7\" >TCGA-4N-A93T-01Z-00-DX1.82E240B1-22C3-46E3-891F-0DCE35C43F8B__x10130_y32416_dx1013_dy1013.png</th>\n",
       "                        <td id=\"T_975ac_row7_col0\" class=\"data row7 col0\" >TCGA-4N-A93T-01Z-00-DX1.82E240B1-22C3-46E3-891F-0DCE35C43F8B</td>\n",
       "                        <td id=\"T_975ac_row7_col1\" class=\"data row7 col1\" >0.668856</td>\n",
       "                        <td id=\"T_975ac_row7_col2\" class=\"data row7 col2\" >1</td>\n",
       "                        <td id=\"T_975ac_row7_col3\" class=\"data row7 col3\" >MSS</td>\n",
       "            </tr>\n",
       "    </tbody></table>"
      ],
      "text/plain": [
       "<pandas.io.formats.style.Styler at 0x7f6e489bde50>"
      ]
     },
     "execution_count": 24,
     "metadata": {},
     "output_type": "execute_result"
    }
   ],
   "source": [
    "tile_ids = [Path(s[0]).name for s in img_dataset.samples]\n",
    "patient_ids = [t.split('__')[0] for t in tile_ids]\n",
    "msi_status = [Path(s[0]).parents[1].name for s in img_dataset.samples]\n",
    "tile_info_df = pd.DataFrame({\n",
    "    'tile_id': tile_ids,\n",
    "    'patient_id': patient_ids,\n",
    "    'tumor_pred_val': all_preds[:, 1].numpy(),\n",
    "    'tumor_pred_class': tumorous_tiles.numpy(),\n",
    "    'MSI_status': msi_status,\n",
    "})\n",
    "tile_info_df.set_index('tile_id', inplace=True)\n",
    "tile_df_save_path = base_save_path / 'tile_info.csv'\n",
    "tile_info_df.to_csv(tile_df_save_path)\n",
    "print(f'Saved tile_info_df to \"{tile_df_save_path}\"')\n",
    "\n",
    "patient_info_df = pd.DataFrame({\n",
    "    'patient_id': tile_info_df['patient_id'].unique(),\n",
    "    'MSI_status': '',\n",
    "})\n",
    "patient_info_df.set_index('patient_id', inplace=True)\n",
    "for patient_id, msi_status in tile_info_df.groupby('patient_id').MSI_status.unique().iteritems():\n",
    "    # Make sure that MSI status is the same for all tiles within a patient\n",
    "    msi_status, = msi_status\n",
    "    patient_info_df.loc[patient_id] = msi_status\n",
    "patient_df_save_path = base_save_path / 'patient_info.csv'\n",
    "patient_info_df.to_csv(patient_df_save_path)\n",
    "print(f'Saved patient_info_df to \"{patient_df_save_path}\"')\n",
    "\n",
    "display(patient_info_df.style.set_caption('Patient info dataframe'))\n",
    "tile_info_df.groupby('patient_id').head(2).style.set_caption('Tile info dataframe, example rows')"
   ]
  },
  {
   "cell_type": "markdown",
   "metadata": {},
   "source": [
    "# Training Deep Learning Models\n",
    "\n",
    "The deep learning model pipeline consists of three main steps:\n",
    "1. Data splitting\n",
    "1. Model and data loading\n",
    "1. Training loop\n",
    "    1. Performing inference\n",
    "    1. Calculating loss\n",
    "    1. Backpropagating loss\n",
    "    1. Updating parameters\n",
    "    1. Logging results"
   ]
  },
  {
   "cell_type": "markdown",
   "metadata": {},
   "source": [
    "### Data splitting\n",
    "\n",
    "First, we split the patients into a train/validation set and a test set.\n",
    "\n",
    "Normally, 10-20% of patients would be assigned to the test set, but since we only have 4 patients in our example dataset, we will perform a 50/50 split."
   ]
  },
  {
   "cell_type": "code",
   "execution_count": 7,
   "metadata": {},
   "outputs": [],
   "source": [
    "train_val_set, test_set = train_test_split(\n",
    "    patient_info_df.index.values,\n",
    "    test_size=0.5,\n",
    "    stratify=patient_info_df['MSI_status'].values\n",
    ")\n",
    "patient_info_df.loc[train_val_set, 'data_subset'] = 'train/validation'\n",
    "patient_info_df.loc[test_set, 'data_subset'] = 'test'\n",
    "tile_info_df = tile_info_df.drop(\n",
    "    columns='data_subset',\n",
    "    errors='ignore'\n",
    ").join(\n",
    "    patient_info_df['data_subset'],\n",
    "    on='patient_id'\n",
    ")"
   ]
  },
  {
   "cell_type": "markdown",
   "metadata": {},
   "source": [
    "Then, we split the tiles from the train/validation patients into a train set and a validation set."
   ]
  },
  {
   "cell_type": "code",
   "execution_count": 8,
   "metadata": {},
   "outputs": [
    {
     "name": "stdout",
     "output_type": "stream",
     "text": [
      "Saved updated tile_info_df to \"tiled_WSIs/tile_info.csv\"\n",
      "Saved updated patient_info_df to \"tiled_WSIs/patient_info.csv\"\n"
     ]
    }
   ],
   "source": [
    "train_val_mask = tile_info_df['data_subset'] != 'test'\n",
    "train_set, val_set = train_test_split(\n",
    "    tile_info_df.index.values[train_val_mask],\n",
    "    train_size=0.9,\n",
    "    stratify=tile_info_df['patient_id'].values[train_val_mask]\n",
    ")\n",
    "tile_info_df.loc[train_set, 'data_subset'] = 'train'\n",
    "tile_info_df.loc[val_set, 'data_subset'] = 'validation'\n",
    "\n",
    "tile_info_df.to_csv(tile_df_save_path)\n",
    "print(f'Saved updated tile_info_df to \"{tile_df_save_path}\"')\n",
    "patient_info_df.to_csv(patient_df_save_path)\n",
    "print(f'Saved updated patient_info_df to \"{patient_df_save_path}\"')"
   ]
  },
  {
   "cell_type": "markdown",
   "metadata": {},
   "source": [
    "Verify that there are no patients with tiles in both the train and test set."
   ]
  },
  {
   "cell_type": "code",
   "execution_count": 9,
   "metadata": {},
   "outputs": [
    {
     "data": {
      "text/plain": [
       "patient_id\n",
       "TCGA-3L-AA1B-01Z-00-DX1.8923A151-A690-40B7-9E5A-FCBEDFC2394F    [train, validation]\n",
       "TCGA-4N-A93T-01Z-00-DX1.82E240B1-22C3-46E3-891F-0DCE35C43F8B                 [test]\n",
       "TCGA-5M-AAT6-01Z-00-DX1.8834C952-14E3-4491-8156-52FC917BB014    [train, validation]\n",
       "TCGA-5M-AATE-01Z-00-DX1.483FFD2F-61A1-477E-8F94-157383803FC7                 [test]\n",
       "Name: data_subset, dtype: object"
      ]
     },
     "execution_count": 9,
     "metadata": {},
     "output_type": "execute_result"
    }
   ],
   "source": [
    "tile_info_df.groupby('patient_id')['data_subset'].unique()"
   ]
  },
  {
   "cell_type": "markdown",
   "metadata": {},
   "source": [
    "### Model and data loading\n",
    "\n",
    "Here we load the data and model and move the model to the correct device.\n",
    "\n",
    "In order to split the train and test sets, and only include tumor images, we define a function to check that a given image path is tumorous and in the correct data subset.\n",
    "\n",
    "The model architectures I've tried and had the most success with are, in no particular order:\n",
    "1. densenet201\n",
    "1. resnet18\n",
    "1. shufflenet_v2_x1_0\n",
    "1. squeezenet1_1\n",
    "\n",
    "However, this is a decision that depends on the amount of data and compute available. For a list of all ImageNet pretrained models available through PyTorch, see https://pytorch.org/vision/stable/models.html.\n",
    "\n",
    "Here we'll use SqueezeNet since it is the smallest and fastest.\n",
    "\n",
    "The choice of optimizer and learning rate is another important hyperparameter choice. For this example we'll use Adam. An excellent overview of various optimizers can be found here: https://ruder.io/optimizing-gradient-descent/\n",
    "\n",
    "We also define class importance weights based on the inverse of the number of samples in each class."
   ]
  },
  {
   "cell_type": "code",
   "execution_count": 10,
   "metadata": {},
   "outputs": [
    {
     "name": "stdout",
     "output_type": "stream",
     "text": [
      "Loading images for training...\n",
      "Loaded 3382 train images.\n",
      "Loaded 327 validation images.\n",
      "Loaded 6097 test images.\n",
      "Loaded model \"squeezenet1_1\" with 723,522 trainable parameters.\n",
      "Class \"MSI-H\" with 2139 samples was given a weight of 0.37.\n",
      "Class \"MSS\" with 1243 samples was given a weight of 0.63.\n"
     ]
    }
   ],
   "source": [
    "# This function defines which files will be allowed in the dataset. Using it, we can subset data without physically moving images into separate folders\n",
    "def get_subset_func(data_subset):\n",
    "    def is_valid_img(path):\n",
    "        if not Path(path).suffix == '.png':\n",
    "            return False\n",
    "        row = tile_info_df.loc[Path(path).name]\n",
    "        return row['tumor_pred_class'] == 1 and row['data_subset'] == data_subset\n",
    "    return is_valid_img\n",
    "\n",
    "# We perform a number of random operations to the images in order to augment the training data\n",
    "# For validation and test data, these transforms are not necessary, but Resize(224) and ToTensor() still are\n",
    "PHASES = ['train', 'validation', 'test']\n",
    "data_transforms = {\n",
    "    'train': transforms.Compose([\n",
    "        transforms.Resize(224),\n",
    "        transforms.RandomAffine(180, translate=(0.1, 0.1)),\n",
    "        transforms.RandomHorizontalFlip(),\n",
    "        transforms.RandomVerticalFlip(),\n",
    "        transforms.ToTensor()\n",
    "    ]),\n",
    "    'validation': transforms.Compose([\n",
    "        transforms.Resize(224),\n",
    "        transforms.ToTensor()\n",
    "    ]),\n",
    "    'test': transforms.Compose([\n",
    "        transforms.Resize(224),\n",
    "        transforms.ToTensor()\n",
    "    ]),\n",
    "}\n",
    "\n",
    "# Load the images\n",
    "BATCH_SIZE = 32\n",
    "print('Loading images for training...')\n",
    "img_datasets = {\n",
    "    phase: datasets.ImageFolder(\n",
    "        base_save_path,\n",
    "        transform=data_transforms[phase],\n",
    "        is_valid_file=get_subset_func(phase)\n",
    "    ) for phase in PHASES\n",
    "}\n",
    "img_dataloaders = {\n",
    "    phase: data.DataLoader(\n",
    "        img_datasets[phase],\n",
    "        batch_size=BATCH_SIZE,\n",
    "        num_workers=8,\n",
    "        shuffle=(phase == 'train'),\n",
    "        pin_memory=True\n",
    "    ) for phase in PHASES\n",
    "}\n",
    "num_classes = len(img_datasets['train'].classes)\n",
    "for phase in PHASES:\n",
    "    print(f'Loaded {len(img_datasets[phase])} {phase} images.')\n",
    "\n",
    "# Load the model\n",
    "MODEL_ARCHITECTURE = models.squeezenet1_1\n",
    "model = load_model_arch(MODEL_ARCHITECTURE, pretrained=True, num_classes=2).to(DEVICE)\n",
    "n_train_params = sum(p.numel() for p in model.parameters() if p.requires_grad)\n",
    "print(f'Loaded model \"{MODEL_ARCHITECTURE.__name__}\" with {n_train_params:,d} trainable parameters.')\n",
    "\n",
    "# Initialize the optimizer\n",
    "optimizer = torch.optim.Adam(model.parameters(), lr=5e-4, weight_decay=1e-4)\n",
    "\n",
    "# Get class importance weights\n",
    "class_samples = []\n",
    "class_weights = []\n",
    "for i, c in enumerate(img_datasets['train'].classes):\n",
    "    n_samples = np.sum(np.array(img_datasets['train'].targets) == i)\n",
    "    if n_samples == 0:\n",
    "        raise RuntimeError(f'Class \"{c}\" has no samples. Make sure there are no empty folders in the image dataset folder.')\n",
    "    class_samples.append(n_samples)\n",
    "    class_weights.append(1. / n_samples)\n",
    "class_weights = torch.tensor(class_weights).float()\n",
    "class_weights = class_weights / class_weights.sum()\n",
    "for i, w in enumerate(class_weights.tolist()):\n",
    "    print(f'Class \"{img_datasets[\"train\"].classes[i]}\" with {class_samples[i]} samples was given a weight of {w:.2f}.')\n",
    "\n",
    "loss_func = nn.CrossEntropyLoss(weight=class_weights.to(DEVICE))"
   ]
  },
  {
   "cell_type": "markdown",
   "metadata": {},
   "source": [
    "### Main training loop"
   ]
  },
  {
   "cell_type": "code",
   "execution_count": 26,
   "metadata": {
    "scrolled": true
   },
   "outputs": [
    {
     "name": "stderr",
     "output_type": "stream",
     "text": [
      "Epoch 0/100,      train: 100%|██████████| 106/106 [00:03<00:00, 28.42it/s]\n"
     ]
    },
    {
     "name": "stdout",
     "output_type": "stream",
     "text": [
      "Epoch 0/100,      train: Loss 0.06\tAcc: 0.98\tAUROC: 1.00\n"
     ]
    },
    {
     "name": "stderr",
     "output_type": "stream",
     "text": [
      "Epoch 0/100, validation: 100%|██████████| 11/11 [00:00<00:00, 36.11it/s]\n"
     ]
    },
    {
     "name": "stdout",
     "output_type": "stream",
     "text": [
      "Epoch 0/100, validation: Loss 0.02\tAcc: 1.00\tAUROC: 1.00\n"
     ]
    },
    {
     "name": "stderr",
     "output_type": "stream",
     "text": [
      "Epoch 1/100,      train: 100%|██████████| 106/106 [00:03<00:00, 28.96it/s]\n"
     ]
    },
    {
     "name": "stdout",
     "output_type": "stream",
     "text": [
      "Epoch 1/100,      train: Loss 0.07\tAcc: 0.97\tAUROC: 1.00\n"
     ]
    },
    {
     "name": "stderr",
     "output_type": "stream",
     "text": [
      "Epoch 1/100, validation: 100%|██████████| 11/11 [00:00<00:00, 35.99it/s]\n"
     ]
    },
    {
     "name": "stdout",
     "output_type": "stream",
     "text": [
      "Epoch 1/100, validation: Loss 0.12\tAcc: 0.97\tAUROC: 1.00\n"
     ]
    },
    {
     "name": "stderr",
     "output_type": "stream",
     "text": [
      "Epoch 2/100,      train: 100%|██████████| 106/106 [00:03<00:00, 28.73it/s]\n"
     ]
    },
    {
     "name": "stdout",
     "output_type": "stream",
     "text": [
      "Epoch 2/100,      train: Loss 0.13\tAcc: 0.95\tAUROC: 0.99\n"
     ]
    },
    {
     "name": "stderr",
     "output_type": "stream",
     "text": [
      "Epoch 2/100, validation: 100%|██████████| 11/11 [00:00<00:00, 34.42it/s]\n"
     ]
    },
    {
     "name": "stdout",
     "output_type": "stream",
     "text": [
      "Epoch 2/100, validation: Loss 0.56\tAcc: 0.72\tAUROC: 1.00\n"
     ]
    },
    {
     "name": "stderr",
     "output_type": "stream",
     "text": [
      "Epoch 3/100,      train: 100%|██████████| 106/106 [00:03<00:00, 27.94it/s]\n"
     ]
    },
    {
     "name": "stdout",
     "output_type": "stream",
     "text": [
      "Epoch 3/100,      train: Loss 0.06\tAcc: 0.98\tAUROC: 1.00\n"
     ]
    },
    {
     "name": "stderr",
     "output_type": "stream",
     "text": [
      "Epoch 3/100, validation: 100%|██████████| 11/11 [00:00<00:00, 35.95it/s]\n"
     ]
    },
    {
     "name": "stdout",
     "output_type": "stream",
     "text": [
      "Epoch 3/100, validation: Loss 0.02\tAcc: 0.99\tAUROC: 1.00\n"
     ]
    },
    {
     "name": "stderr",
     "output_type": "stream",
     "text": [
      "Epoch 4/100,      train: 100%|██████████| 106/106 [00:03<00:00, 27.79it/s]\n"
     ]
    },
    {
     "name": "stdout",
     "output_type": "stream",
     "text": [
      "Epoch 4/100,      train: Loss 0.07\tAcc: 0.98\tAUROC: 1.00\n"
     ]
    },
    {
     "name": "stderr",
     "output_type": "stream",
     "text": [
      "Epoch 4/100, validation: 100%|██████████| 11/11 [00:00<00:00, 33.36it/s]\n"
     ]
    },
    {
     "name": "stdout",
     "output_type": "stream",
     "text": [
      "Epoch 4/100, validation: Loss 0.03\tAcc: 0.99\tAUROC: 1.00\n"
     ]
    },
    {
     "name": "stderr",
     "output_type": "stream",
     "text": [
      "Epoch 5/100,      train: 100%|██████████| 106/106 [00:03<00:00, 29.25it/s]\n"
     ]
    },
    {
     "name": "stdout",
     "output_type": "stream",
     "text": [
      "Epoch 5/100,      train: Loss 0.03\tAcc: 0.99\tAUROC: 1.00\n"
     ]
    },
    {
     "name": "stderr",
     "output_type": "stream",
     "text": [
      "Epoch 5/100, validation: 100%|██████████| 11/11 [00:00<00:00, 35.30it/s]\n"
     ]
    },
    {
     "name": "stdout",
     "output_type": "stream",
     "text": [
      "Epoch 5/100, validation: Loss 0.01\tAcc: 0.99\tAUROC: 1.00\n"
     ]
    },
    {
     "name": "stderr",
     "output_type": "stream",
     "text": [
      "Epoch 6/100,      train: 100%|██████████| 106/106 [00:03<00:00, 29.51it/s]\n"
     ]
    },
    {
     "name": "stdout",
     "output_type": "stream",
     "text": [
      "Epoch 6/100,      train: Loss 0.04\tAcc: 0.98\tAUROC: 1.00\n"
     ]
    },
    {
     "name": "stderr",
     "output_type": "stream",
     "text": [
      "Epoch 6/100, validation: 100%|██████████| 11/11 [00:00<00:00, 34.20it/s]\n"
     ]
    },
    {
     "name": "stdout",
     "output_type": "stream",
     "text": [
      "Epoch 6/100, validation: Loss 0.05\tAcc: 0.98\tAUROC: 1.00\n"
     ]
    },
    {
     "name": "stderr",
     "output_type": "stream",
     "text": [
      "Epoch 7/100,      train: 100%|██████████| 106/106 [00:03<00:00, 29.10it/s]\n"
     ]
    },
    {
     "name": "stdout",
     "output_type": "stream",
     "text": [
      "Epoch 7/100,      train: Loss 0.04\tAcc: 0.99\tAUROC: 1.00\n"
     ]
    },
    {
     "name": "stderr",
     "output_type": "stream",
     "text": [
      "Epoch 7/100, validation: 100%|██████████| 11/11 [00:00<00:00, 34.36it/s]\n"
     ]
    },
    {
     "name": "stdout",
     "output_type": "stream",
     "text": [
      "Epoch 7/100, validation: Loss 0.04\tAcc: 0.98\tAUROC: 1.00\n"
     ]
    },
    {
     "name": "stderr",
     "output_type": "stream",
     "text": [
      "Epoch 8/100,      train: 100%|██████████| 106/106 [00:03<00:00, 28.23it/s]\n"
     ]
    },
    {
     "name": "stdout",
     "output_type": "stream",
     "text": [
      "Epoch 8/100,      train: Loss 0.06\tAcc: 0.98\tAUROC: 1.00\n"
     ]
    },
    {
     "name": "stderr",
     "output_type": "stream",
     "text": [
      "Epoch 8/100, validation: 100%|██████████| 11/11 [00:00<00:00, 36.63it/s]\n"
     ]
    },
    {
     "name": "stdout",
     "output_type": "stream",
     "text": [
      "Epoch 8/100, validation: Loss 0.08\tAcc: 0.98\tAUROC: 1.00\n"
     ]
    },
    {
     "name": "stderr",
     "output_type": "stream",
     "text": [
      "Epoch 9/100,      train: 100%|██████████| 106/106 [00:03<00:00, 27.69it/s]\n"
     ]
    },
    {
     "name": "stdout",
     "output_type": "stream",
     "text": [
      "Epoch 9/100,      train: Loss 0.05\tAcc: 0.98\tAUROC: 1.00\n"
     ]
    },
    {
     "name": "stderr",
     "output_type": "stream",
     "text": [
      "Epoch 9/100, validation: 100%|██████████| 11/11 [00:00<00:00, 33.93it/s]\n"
     ]
    },
    {
     "name": "stdout",
     "output_type": "stream",
     "text": [
      "Epoch 9/100, validation: Loss 0.06\tAcc: 0.98\tAUROC: 1.00\n"
     ]
    },
    {
     "name": "stderr",
     "output_type": "stream",
     "text": [
      "Epoch 10/100,      train: 100%|██████████| 106/106 [00:03<00:00, 30.02it/s]\n"
     ]
    },
    {
     "name": "stdout",
     "output_type": "stream",
     "text": [
      "Epoch 10/100,      train: Loss 0.04\tAcc: 0.99\tAUROC: 1.00\n"
     ]
    },
    {
     "name": "stderr",
     "output_type": "stream",
     "text": [
      "Epoch 10/100, validation: 100%|██████████| 11/11 [00:00<00:00, 34.99it/s]\n"
     ]
    },
    {
     "name": "stdout",
     "output_type": "stream",
     "text": [
      "Epoch 10/100, validation: Loss 0.01\tAcc: 0.99\tAUROC: 1.00\n"
     ]
    },
    {
     "name": "stderr",
     "output_type": "stream",
     "text": [
      "Epoch 11/100,      train: 100%|██████████| 106/106 [00:03<00:00, 28.95it/s]\n"
     ]
    },
    {
     "name": "stdout",
     "output_type": "stream",
     "text": [
      "Epoch 11/100,      train: Loss 0.04\tAcc: 0.98\tAUROC: 1.00\n"
     ]
    },
    {
     "name": "stderr",
     "output_type": "stream",
     "text": [
      "Epoch 11/100, validation: 100%|██████████| 11/11 [00:00<00:00, 37.07it/s]\n"
     ]
    },
    {
     "name": "stdout",
     "output_type": "stream",
     "text": [
      "Epoch 11/100, validation: Loss 0.02\tAcc: 0.99\tAUROC: 1.00\n"
     ]
    },
    {
     "name": "stderr",
     "output_type": "stream",
     "text": [
      "Epoch 12/100,      train: 100%|██████████| 106/106 [00:03<00:00, 29.18it/s]\n"
     ]
    },
    {
     "name": "stdout",
     "output_type": "stream",
     "text": [
      "Epoch 12/100,      train: Loss 0.07\tAcc: 0.98\tAUROC: 1.00\n"
     ]
    },
    {
     "name": "stderr",
     "output_type": "stream",
     "text": [
      "Epoch 12/100, validation: 100%|██████████| 11/11 [00:00<00:00, 36.25it/s]\n"
     ]
    },
    {
     "name": "stdout",
     "output_type": "stream",
     "text": [
      "Epoch 12/100, validation: Loss 0.02\tAcc: 0.99\tAUROC: 1.00\n"
     ]
    },
    {
     "name": "stderr",
     "output_type": "stream",
     "text": [
      "Epoch 13/100,      train: 100%|██████████| 106/106 [00:03<00:00, 28.88it/s]\n"
     ]
    },
    {
     "name": "stdout",
     "output_type": "stream",
     "text": [
      "Epoch 13/100,      train: Loss 0.05\tAcc: 0.98\tAUROC: 1.00\n"
     ]
    },
    {
     "name": "stderr",
     "output_type": "stream",
     "text": [
      "Epoch 13/100, validation: 100%|██████████| 11/11 [00:00<00:00, 34.83it/s]\n"
     ]
    },
    {
     "name": "stdout",
     "output_type": "stream",
     "text": [
      "Epoch 13/100, validation: Loss 0.02\tAcc: 0.99\tAUROC: 1.00\n"
     ]
    },
    {
     "name": "stderr",
     "output_type": "stream",
     "text": [
      "Epoch 14/100,      train: 100%|██████████| 106/106 [00:03<00:00, 29.32it/s]\n"
     ]
    },
    {
     "name": "stdout",
     "output_type": "stream",
     "text": [
      "Epoch 14/100,      train: Loss 0.03\tAcc: 0.99\tAUROC: 1.00\n"
     ]
    },
    {
     "name": "stderr",
     "output_type": "stream",
     "text": [
      "Epoch 14/100, validation: 100%|██████████| 11/11 [00:00<00:00, 36.38it/s]\n"
     ]
    },
    {
     "name": "stdout",
     "output_type": "stream",
     "text": [
      "Epoch 14/100, validation: Loss 0.01\tAcc: 1.00\tAUROC: 1.00\n"
     ]
    },
    {
     "name": "stderr",
     "output_type": "stream",
     "text": [
      "Epoch 15/100,      train: 100%|██████████| 106/106 [00:03<00:00, 29.24it/s]\n"
     ]
    },
    {
     "name": "stdout",
     "output_type": "stream",
     "text": [
      "Epoch 15/100,      train: Loss 0.03\tAcc: 0.99\tAUROC: 1.00\n"
     ]
    },
    {
     "name": "stderr",
     "output_type": "stream",
     "text": [
      "Epoch 15/100, validation: 100%|██████████| 11/11 [00:00<00:00, 35.97it/s]\n"
     ]
    },
    {
     "name": "stdout",
     "output_type": "stream",
     "text": [
      "Epoch 15/100, validation: Loss 0.01\tAcc: 0.99\tAUROC: 1.00\n"
     ]
    },
    {
     "name": "stderr",
     "output_type": "stream",
     "text": [
      "Epoch 16/100,      train: 100%|██████████| 106/106 [00:03<00:00, 28.61it/s]\n"
     ]
    },
    {
     "name": "stdout",
     "output_type": "stream",
     "text": [
      "Epoch 16/100,      train: Loss 0.02\tAcc: 0.99\tAUROC: 1.00\n"
     ]
    },
    {
     "name": "stderr",
     "output_type": "stream",
     "text": [
      "Epoch 16/100, validation: 100%|██████████| 11/11 [00:00<00:00, 37.67it/s]\n"
     ]
    },
    {
     "name": "stdout",
     "output_type": "stream",
     "text": [
      "Epoch 16/100, validation: Loss 0.02\tAcc: 0.99\tAUROC: 1.00\n"
     ]
    },
    {
     "name": "stderr",
     "output_type": "stream",
     "text": [
      "Epoch 17/100,      train: 100%|██████████| 106/106 [00:03<00:00, 28.49it/s]\n"
     ]
    },
    {
     "name": "stdout",
     "output_type": "stream",
     "text": [
      "Epoch 17/100,      train: Loss 0.05\tAcc: 0.98\tAUROC: 1.00\n"
     ]
    },
    {
     "name": "stderr",
     "output_type": "stream",
     "text": [
      "Epoch 17/100, validation: 100%|██████████| 11/11 [00:00<00:00, 33.59it/s]\n"
     ]
    },
    {
     "name": "stdout",
     "output_type": "stream",
     "text": [
      "Epoch 17/100, validation: Loss 0.03\tAcc: 0.99\tAUROC: 1.00\n"
     ]
    },
    {
     "name": "stderr",
     "output_type": "stream",
     "text": [
      "Epoch 18/100,      train: 100%|██████████| 106/106 [00:03<00:00, 28.88it/s]\n"
     ]
    },
    {
     "name": "stdout",
     "output_type": "stream",
     "text": [
      "Epoch 18/100,      train: Loss 0.04\tAcc: 0.98\tAUROC: 1.00\n"
     ]
    },
    {
     "name": "stderr",
     "output_type": "stream",
     "text": [
      "Epoch 18/100, validation: 100%|██████████| 11/11 [00:00<00:00, 38.78it/s]\n"
     ]
    },
    {
     "name": "stdout",
     "output_type": "stream",
     "text": [
      "Epoch 18/100, validation: Loss 0.03\tAcc: 0.99\tAUROC: 1.00\n"
     ]
    },
    {
     "name": "stderr",
     "output_type": "stream",
     "text": [
      "Epoch 19/100,      train: 100%|██████████| 106/106 [00:03<00:00, 28.70it/s]\n"
     ]
    },
    {
     "name": "stdout",
     "output_type": "stream",
     "text": [
      "Epoch 19/100,      train: Loss 0.03\tAcc: 0.99\tAUROC: 1.00\n"
     ]
    },
    {
     "name": "stderr",
     "output_type": "stream",
     "text": [
      "Epoch 19/100, validation: 100%|██████████| 11/11 [00:00<00:00, 34.85it/s]\n"
     ]
    },
    {
     "name": "stdout",
     "output_type": "stream",
     "text": [
      "Epoch 19/100, validation: Loss 0.01\tAcc: 0.99\tAUROC: 1.00\n",
      "\n",
      "########## Beginning tile-level testing ##########\n"
     ]
    },
    {
     "name": "stderr",
     "output_type": "stream",
     "text": [
      "Epoch 19/100,       test: 100%|██████████| 191/191 [00:02<00:00, 83.97it/s]\n"
     ]
    },
    {
     "name": "stdout",
     "output_type": "stream",
     "text": [
      "Epoch 19/100,       test: Loss 1.49\tAcc: 0.45\tAUROC: 0.95\n"
     ]
    }
   ],
   "source": [
    "# Weights are stored for model checkpointing\n",
    "best_model_weights = copy.deepcopy(model.state_dict())\n",
    "validation_losses = []\n",
    "stop = False\n",
    "dataset_sizes = {p: len(img_datasets[p]) for p in PHASES}\n",
    "\n",
    "# Log various stats for visualization after training\n",
    "log_dict = {}\n",
    "for phase in PHASES:\n",
    "    log_dict[phase + '_acc'] = []\n",
    "    log_dict[phase + '_loss'] = []\n",
    "    log_dict[phase + '_roc_auc'] = []\n",
    "\n",
    "MAX_N_EPOCHS = 100\n",
    "for epoch in range(MAX_N_EPOCHS):\n",
    "    # Cycle through training and validation, only testing the model once all training and validation has finished\n",
    "    for phase in PHASES:\n",
    "        if phase == 'train':\n",
    "            model.train()\n",
    "        elif phase == 'validation':\n",
    "            model.eval()\n",
    "        else:\n",
    "            # Only test after all training and validation has finished\n",
    "            if epoch == MAX_N_EPOCHS - 1 or stop:\n",
    "                print('\\n' + '#' * 10 + ' Beginning tile-level testing ' + '#' * 10)\n",
    "                # Reload the best model checkpoint\n",
    "                model.load_state_dict(best_model_weights)\n",
    "                model.eval()\n",
    "            else:\n",
    "                log_dict[phase + '_acc'].append(None)\n",
    "                log_dict[phase + '_loss'].append(None)\n",
    "                log_dict[phase + '_roc_auc'].append(None)\n",
    "                continue\n",
    "        y_true = np.empty((0, num_classes))\n",
    "        y_score = np.empty((0, num_classes))\n",
    "        \n",
    "        running_loss = 0.\n",
    "        running_corrects = 0\n",
    "        for i, (inputs, labels) in tqdm.tqdm(enumerate(img_dataloaders[phase]),\n",
    "                                             desc=f'Epoch {epoch}/{MAX_N_EPOCHS}, {phase:>10}',\n",
    "                                             total=len(img_dataloaders[phase])):\n",
    "            # Move the data to the GPU\n",
    "            inputs = inputs.to(DEVICE, non_blocking=True)\n",
    "            labels = labels.to(DEVICE, non_blocking=True)\n",
    "            # Zero gradients\n",
    "            optimizer.zero_grad()\n",
    "            # Forward pass, only enabling gradient computation during training\n",
    "            with torch.set_grad_enabled(phase == 'train'):\n",
    "                outputs = model(inputs)\n",
    "                _, preds = torch.max(outputs, dim=1)\n",
    "                loss = loss_func(outputs, labels)\n",
    "                # Backward pass and update weights only during training\n",
    "                if phase == 'train':\n",
    "                    loss.backward()\n",
    "                    optimizer.step()\n",
    "                y_true = np.concatenate([y_true, np.eye(num_classes)[labels.detach().cpu().numpy().ravel()]])\n",
    "                y_score = np.concatenate([y_score, F.softmax(outputs.detach(), dim=1).cpu().numpy()])\n",
    "                    \n",
    "            # Track stats for logging\n",
    "            running_loss += loss.item() * inputs.size(0)\n",
    "            running_corrects += torch.sum(preds == labels)\n",
    "            current_loss = running_loss / (i + 1) / BATCH_SIZE\n",
    "        \n",
    "        time.sleep(0.25)\n",
    "        epoch_loss = running_loss / dataset_sizes[phase]\n",
    "        epoch_acc = running_corrects.float().cpu().numpy() / dataset_sizes[phase]\n",
    "        epoch_roc_auc = roc_auc_score(y_true, y_score)\n",
    "        print(f'Epoch {epoch}/{MAX_N_EPOCHS}, {phase:>10}: Loss {epoch_loss:.2f}\\tAcc: {epoch_acc:.2f}\\tAUROC: {epoch_roc_auc:.2f}')\n",
    "        \n",
    "        log_dict[phase + '_loss'].append(epoch_loss)\n",
    "        log_dict[phase + '_acc'].append(epoch_acc)\n",
    "        log_dict[phase + '_roc_auc'].append(epoch_roc_auc)\n",
    "        \n",
    "        if phase == 'validation':\n",
    "            # Save model checkpoint if validation reaches a new minimum\n",
    "            if len(validation_losses) == 0 or epoch_loss < min(validation_losses):\n",
    "                best_model_weights = copy.deepcopy(model.state_dict())\n",
    "            validation_losses.append(epoch_loss)\n",
    "            # Stop training if validation performance does not improve for N epochs\n",
    "            N = 5\n",
    "            if np.argmin(validation_losses) < len(validation_losses) - N:\n",
    "                stop = True\n",
    "    if stop:\n",
    "        break\n",
    "log_df = pd.DataFrame(log_dict)\n",
    "log_df.index.rename('Epoch', inplace=True)"
   ]
  },
  {
   "cell_type": "markdown",
   "metadata": {},
   "source": [
    "### Miscellaneous notes\n",
    "\n",
    "- In order to change which GPU the code is run on to GPU N, simply change the `DEVICE` parameter to `torch.device('cuda:N')` when calling `data.to(DEVICE)` or `model.to(DEVICE)`. Alternatively on linux, one can leave the device as `torch.device('cuda:0')` and call `CUDA_VISIBLE_DEVICES=N python my_script.py` when running a python script.\n",
    "<br><br>\n",
    "\n",
    "- When training deep neural networks, keep an eye on the GPU usage with the `nvidia-smi` command. If the GPU usage is below 90% during the \"train\" phase of code, then that means that the GPU is idling/waiting for data and there is a bottleneck in the pipeline. In order to remove such bottlenecks, I recommend:\n",
    "    - Use Linux, not Windows - PyTorch dataloaders are slower in Windows. (I've never tried Mac, but I imagine it would work similarly to Linux)\n",
    "    - Make sure to keep the tiled image data on a local SSD (or at least a local HDD) for the best throughput. Reading data from a network drive will greatly slow down training.\n",
    "    - Increase the `num_workers` pytorch dataloader parameter, but not to more workers than the CPU has cores.\n",
    "    - Increase the batch size. One of the main bottlenecks in running CUDA code on a GPU is the CPU-GPU transfer time. Transferring and operating on data in larger chunks better utilizes the built-in GPU parallelization capacity.\n",
    "    - Check to see if other processes/users are using the CPU. (`htop` is a handy tool for this)\n",
    "    - Check that the RAM is not fully utilized. This should rarely be a problem on your PC, but when it is a problem on a server from over-usage, it dramatically slows everything down.\n",
    "    - Use the `taskset` command when running multiple experiments to help ensure you do not overload the available CPU cores.\n",
    "<br><br>\n",
    "\n",
    "- On the other hand, sometimes you will find that the GPU is being fully utilized and is itself the bottleneck. In these cases, you can do the following to speed up training:\n",
    "    - Use mixed precision training. This will only work on GPUs with tensor cores, but does offer a significant speedup and is very easy to implement. See: https://pytorch.org/blog/accelerating-training-on-nvidia-gpus-with-pytorch-automatic-mixed-precision/\n",
    "    - Use multi-GPU parallelization. https://pytorch.org/tutorials/beginner/blitz/data_parallel_tutorial.html\n",
    "<br><br>\n",
    "\n",
    "- In this example notebook we log all performance statistics as text output. This can become inconvenient if you are running jobs remotely and/or running multiple jobs at once. I recommend using pytorch's tensorboard integration if you would like to monitor performance live: https://pytorch.org/docs/stable/tensorboard.html\n",
    "<br><br>\n",
    "\n",
    "- Whenever you are trying new models or pipelines, it is generally a good idea to perform a trial run with toy data. If the model does not converge on otherwise trivial data, then you know right away that something is wrong and don't have to wait for the results from a full run.\n",
    "<br><br>\n",
    "\n",
    "- On a related note, sometimes you'll encounter NaN gradients during training due to gradient explosion. If that happens consistently, you can try:\n",
    "    - Reduce the learning rate\n",
    "    - Make sure there is not something wrong with the model architecture if you are using a custom architecture, and make sure that you do not have softmax as the final layer when using nn.CrossEntropyLoss.\n",
    "    - Use nn.CrossEntropyLoss instead of taking the log of a softmax layer with NLL loss. Pytorch's cross entropy loss uses the log-sum-exp trick to combine the log-softmax and NLL loss operations to improve numerical stability."
   ]
  },
  {
   "cell_type": "markdown",
   "metadata": {},
   "source": [
    "# Evaluating & Visualizing Performance\n",
    "\n",
    "So far, we've trained the models and evaluated performance at a tile level. Ultimately however, the goal is to make decisions at a patient level. To convert a tile-level prediction to a patient-level one, we simply take the mean tile-level prediction. This is not the only way, nor necessarily the best way, to make a patient-level prediction, and could probably use improvement. (Multi-instance learning, for example, is another way to go about things)\n",
    "\n",
    "Here is a function to get the patient-level performance:"
   ]
  },
  {
   "cell_type": "code",
   "execution_count": 27,
   "metadata": {},
   "outputs": [],
   "source": [
    "def get_patient_id(path):\n",
    "    img_name = Path(path).name\n",
    "    return img_name.split('__')[0]\n",
    "\n",
    "\n",
    "# This decorator stops the function from automatically using pytorch autograd\n",
    "@torch.no_grad()\n",
    "def get_patient_level_results(model, img_dataloader, threshold=None):\n",
    "    img_dataset = img_dataloader.dataset\n",
    "    num_classes = len(img_dataset.classes)\n",
    "    patient_ids = np.array([get_patient_id(path) for path, _ in img_dataset.samples])\n",
    "    patient_ids = np.unique(patient_ids)\n",
    "    patient_idxs = []\n",
    "    patient_classes_dict = {}\n",
    "    # Ensure there are no patients who have image tiles with different class labels\n",
    "    for path, class_idx in img_dataset.samples:\n",
    "        patient_id = get_patient_id(path)\n",
    "        patient_idxs.append(np.arange(len(patient_ids))[patient_ids == patient_id])\n",
    "        if patient_id in patient_classes_dict.keys():\n",
    "            if patient_classes_dict[patient_id][0] != class_idx:\n",
    "                raise RuntimeError('Patients must have a single class per patient. ' +\n",
    "                                   '{} was classified as {} and {} in images {} and {}.'.format(\n",
    "                                       patient_id,\n",
    "                                       patient_classes_dict[patient_id][0],\n",
    "                                       class_idx,\n",
    "                                       patient_classes_dict[patient_id][1],\n",
    "                                       path\n",
    "                                   ))\n",
    "        else:\n",
    "            patient_classes_dict[patient_id] = (class_idx, path)\n",
    "    patient_idxs = np.array(patient_idxs).ravel()\n",
    "    patient_classes = [patient_classes_dict[pid][0] for pid in patient_ids]\n",
    "    \n",
    "    all_preds = torch.empty((0, num_classes)).to(DEVICE)\n",
    "    for inputs, _ in tqdm.tqdm(img_dataloader, desc='Patient-level testing'):\n",
    "        inputs = inputs.to(DEVICE)\n",
    "        preds = model(inputs)\n",
    "        preds = F.softmax(preds, dim=-1)\n",
    "        all_preds = torch.cat([all_preds, preds], dim=0)\n",
    "    \n",
    "    all_preds = all_preds.cpu().numpy()\n",
    "    patient_scores = []\n",
    "    for i in range(len(patient_ids)):\n",
    "        patient_scores.append(all_preds[patient_idxs == i].mean(axis=0))\n",
    "    patient_scores = np.array(patient_scores)\n",
    "    # Should sum to 1 already, but re-normalize in case of any fp32-induced underflow\n",
    "    patient_scores = patient_scores / patient_scores.sum(axis=-1, keepdims=True)\n",
    "    patient_classes_onehot = np.eye(num_classes)[np.array(patient_classes)]\n",
    "    \n",
    "    if threshold is None:\n",
    "        threshold, sensitivity, specificity = find_optimal_threshold(y_true=patient_classes, y_score=patient_scores[:, 1])\n",
    "        time.sleep(0.25)\n",
    "        print(f'Calculated optimal threshold of \"{threshold:.2f}\" using test data class labels.')\n",
    "    patient_level_roc = roc_auc_score(patient_classes_onehot, patient_scores)\n",
    "    patient_level_acc = np.mean(np.array(patient_classes) == (patient_scores[:, 1] >= threshold))\n",
    "    return patient_level_acc, patient_level_roc"
   ]
  },
  {
   "cell_type": "markdown",
   "metadata": {},
   "source": [
    "It is worth noting that the above function calculates the optimal threshold using the test data if it is not provided a threshold. I've done this for brevity's sake, but ideally one would tune the threshold using the combined training and validation data, not the testing data. (The threshold is used to convert the model's predicted probabilities to binary predictions.) It is worth noting that the AUC will not always equal the accuracy, especially in class-imbalanced situations."
   ]
  },
  {
   "cell_type": "code",
   "execution_count": 28,
   "metadata": {},
   "outputs": [
    {
     "name": "stderr",
     "output_type": "stream",
     "text": [
      "Patient-level testing: 100%|██████████| 191/191 [00:02<00:00, 77.42it/s]\n"
     ]
    },
    {
     "name": "stdout",
     "output_type": "stream",
     "text": [
      "Calculated optimal threshold of \"0.97\" using test data class labels.\n",
      "Patient-level test accuracy: 1.00\tAUROC: 1.00\n"
     ]
    }
   ],
   "source": [
    "patient_level_acc, patient_level_roc = get_patient_level_results(model, img_dataloaders['test'])\n",
    "print(f'Patient-level test accuracy: {patient_level_acc:.2f}\\tAUROC: {patient_level_roc:.2f}')"
   ]
  },
  {
   "cell_type": "markdown",
   "metadata": {},
   "source": [
    "### Visualizing performance over time\n",
    "\n",
    "It is also worth visualizing our model's performance over the course of training. We've stored all the metrics in the `log_df` dataframe."
   ]
  },
  {
   "cell_type": "code",
   "execution_count": 29,
   "metadata": {
    "tags": [
     "hide_input"
    ]
   },
   "outputs": [
    {
     "data": {
      "text/html": [
       "<div>\n",
       "<style scoped>\n",
       "    .dataframe tbody tr th:only-of-type {\n",
       "        vertical-align: middle;\n",
       "    }\n",
       "\n",
       "    .dataframe tbody tr th {\n",
       "        vertical-align: top;\n",
       "    }\n",
       "\n",
       "    .dataframe thead th {\n",
       "        text-align: right;\n",
       "    }\n",
       "</style>\n",
       "<table border=\"1\" class=\"dataframe\">\n",
       "  <thead>\n",
       "    <tr style=\"text-align: right;\">\n",
       "      <th></th>\n",
       "      <th>train_acc</th>\n",
       "      <th>train_loss</th>\n",
       "      <th>train_roc_auc</th>\n",
       "      <th>validation_acc</th>\n",
       "      <th>validation_loss</th>\n",
       "      <th>validation_roc_auc</th>\n",
       "      <th>test_acc</th>\n",
       "      <th>test_loss</th>\n",
       "      <th>test_roc_auc</th>\n",
       "    </tr>\n",
       "    <tr>\n",
       "      <th>Epoch</th>\n",
       "      <th></th>\n",
       "      <th></th>\n",
       "      <th></th>\n",
       "      <th></th>\n",
       "      <th></th>\n",
       "      <th></th>\n",
       "      <th></th>\n",
       "      <th></th>\n",
       "      <th></th>\n",
       "    </tr>\n",
       "  </thead>\n",
       "  <tbody>\n",
       "    <tr>\n",
       "      <th>0</th>\n",
       "      <td>0.977824</td>\n",
       "      <td>0.060320</td>\n",
       "      <td>0.997710</td>\n",
       "      <td>0.996942</td>\n",
       "      <td>0.017966</td>\n",
       "      <td>0.999920</td>\n",
       "      <td>NaN</td>\n",
       "      <td>NaN</td>\n",
       "      <td>NaN</td>\n",
       "    </tr>\n",
       "    <tr>\n",
       "      <th>1</th>\n",
       "      <td>0.972206</td>\n",
       "      <td>0.068002</td>\n",
       "      <td>0.997223</td>\n",
       "      <td>0.972477</td>\n",
       "      <td>0.120383</td>\n",
       "      <td>0.999280</td>\n",
       "      <td>NaN</td>\n",
       "      <td>NaN</td>\n",
       "      <td>NaN</td>\n",
       "    </tr>\n",
       "    <tr>\n",
       "      <th>2</th>\n",
       "      <td>0.954760</td>\n",
       "      <td>0.129686</td>\n",
       "      <td>0.990807</td>\n",
       "      <td>0.724771</td>\n",
       "      <td>0.556716</td>\n",
       "      <td>0.997081</td>\n",
       "      <td>NaN</td>\n",
       "      <td>NaN</td>\n",
       "      <td>NaN</td>\n",
       "    </tr>\n",
       "    <tr>\n",
       "      <th>3</th>\n",
       "      <td>0.978415</td>\n",
       "      <td>0.056467</td>\n",
       "      <td>0.998036</td>\n",
       "      <td>0.993884</td>\n",
       "      <td>0.018470</td>\n",
       "      <td>0.999840</td>\n",
       "      <td>NaN</td>\n",
       "      <td>NaN</td>\n",
       "      <td>NaN</td>\n",
       "    </tr>\n",
       "    <tr>\n",
       "      <th>4</th>\n",
       "      <td>0.975458</td>\n",
       "      <td>0.069740</td>\n",
       "      <td>0.996972</td>\n",
       "      <td>0.993884</td>\n",
       "      <td>0.031604</td>\n",
       "      <td>0.999920</td>\n",
       "      <td>NaN</td>\n",
       "      <td>NaN</td>\n",
       "      <td>NaN</td>\n",
       "    </tr>\n",
       "    <tr>\n",
       "      <th>5</th>\n",
       "      <td>0.987581</td>\n",
       "      <td>0.028787</td>\n",
       "      <td>0.999482</td>\n",
       "      <td>0.993884</td>\n",
       "      <td>0.013805</td>\n",
       "      <td>0.999800</td>\n",
       "      <td>NaN</td>\n",
       "      <td>NaN</td>\n",
       "      <td>NaN</td>\n",
       "    </tr>\n",
       "    <tr>\n",
       "      <th>6</th>\n",
       "      <td>0.984920</td>\n",
       "      <td>0.042584</td>\n",
       "      <td>0.998743</td>\n",
       "      <td>0.975535</td>\n",
       "      <td>0.045114</td>\n",
       "      <td>0.999640</td>\n",
       "      <td>NaN</td>\n",
       "      <td>NaN</td>\n",
       "      <td>NaN</td>\n",
       "    </tr>\n",
       "    <tr>\n",
       "      <th>7</th>\n",
       "      <td>0.986103</td>\n",
       "      <td>0.037305</td>\n",
       "      <td>0.999098</td>\n",
       "      <td>0.984709</td>\n",
       "      <td>0.044319</td>\n",
       "      <td>1.000000</td>\n",
       "      <td>NaN</td>\n",
       "      <td>NaN</td>\n",
       "      <td>NaN</td>\n",
       "    </tr>\n",
       "    <tr>\n",
       "      <th>8</th>\n",
       "      <td>0.978711</td>\n",
       "      <td>0.061380</td>\n",
       "      <td>0.997447</td>\n",
       "      <td>0.984709</td>\n",
       "      <td>0.076104</td>\n",
       "      <td>0.999560</td>\n",
       "      <td>NaN</td>\n",
       "      <td>NaN</td>\n",
       "      <td>NaN</td>\n",
       "    </tr>\n",
       "    <tr>\n",
       "      <th>9</th>\n",
       "      <td>0.979302</td>\n",
       "      <td>0.047399</td>\n",
       "      <td>0.998653</td>\n",
       "      <td>0.978593</td>\n",
       "      <td>0.058677</td>\n",
       "      <td>0.999600</td>\n",
       "      <td>NaN</td>\n",
       "      <td>NaN</td>\n",
       "      <td>NaN</td>\n",
       "    </tr>\n",
       "    <tr>\n",
       "      <th>10</th>\n",
       "      <td>0.985216</td>\n",
       "      <td>0.036534</td>\n",
       "      <td>0.999190</td>\n",
       "      <td>0.993884</td>\n",
       "      <td>0.010667</td>\n",
       "      <td>0.999920</td>\n",
       "      <td>NaN</td>\n",
       "      <td>NaN</td>\n",
       "      <td>NaN</td>\n",
       "    </tr>\n",
       "    <tr>\n",
       "      <th>11</th>\n",
       "      <td>0.984033</td>\n",
       "      <td>0.038792</td>\n",
       "      <td>0.998924</td>\n",
       "      <td>0.987768</td>\n",
       "      <td>0.021377</td>\n",
       "      <td>0.999760</td>\n",
       "      <td>NaN</td>\n",
       "      <td>NaN</td>\n",
       "      <td>NaN</td>\n",
       "    </tr>\n",
       "    <tr>\n",
       "      <th>12</th>\n",
       "      <td>0.979598</td>\n",
       "      <td>0.069256</td>\n",
       "      <td>0.996663</td>\n",
       "      <td>0.993884</td>\n",
       "      <td>0.017296</td>\n",
       "      <td>0.999840</td>\n",
       "      <td>NaN</td>\n",
       "      <td>NaN</td>\n",
       "      <td>NaN</td>\n",
       "    </tr>\n",
       "    <tr>\n",
       "      <th>13</th>\n",
       "      <td>0.977824</td>\n",
       "      <td>0.053092</td>\n",
       "      <td>0.998076</td>\n",
       "      <td>0.993884</td>\n",
       "      <td>0.020706</td>\n",
       "      <td>0.999720</td>\n",
       "      <td>NaN</td>\n",
       "      <td>NaN</td>\n",
       "      <td>NaN</td>\n",
       "    </tr>\n",
       "    <tr>\n",
       "      <th>14</th>\n",
       "      <td>0.992608</td>\n",
       "      <td>0.026852</td>\n",
       "      <td>0.999460</td>\n",
       "      <td>0.996942</td>\n",
       "      <td>0.009337</td>\n",
       "      <td>0.999960</td>\n",
       "      <td>NaN</td>\n",
       "      <td>NaN</td>\n",
       "      <td>NaN</td>\n",
       "    </tr>\n",
       "    <tr>\n",
       "      <th>15</th>\n",
       "      <td>0.992904</td>\n",
       "      <td>0.025831</td>\n",
       "      <td>0.999558</td>\n",
       "      <td>0.993884</td>\n",
       "      <td>0.013394</td>\n",
       "      <td>0.999920</td>\n",
       "      <td>NaN</td>\n",
       "      <td>NaN</td>\n",
       "      <td>NaN</td>\n",
       "    </tr>\n",
       "    <tr>\n",
       "      <th>16</th>\n",
       "      <td>0.989947</td>\n",
       "      <td>0.024752</td>\n",
       "      <td>0.999620</td>\n",
       "      <td>0.990826</td>\n",
       "      <td>0.019440</td>\n",
       "      <td>0.999920</td>\n",
       "      <td>NaN</td>\n",
       "      <td>NaN</td>\n",
       "      <td>NaN</td>\n",
       "    </tr>\n",
       "    <tr>\n",
       "      <th>17</th>\n",
       "      <td>0.981963</td>\n",
       "      <td>0.047910</td>\n",
       "      <td>0.998419</td>\n",
       "      <td>0.990826</td>\n",
       "      <td>0.027291</td>\n",
       "      <td>0.999840</td>\n",
       "      <td>NaN</td>\n",
       "      <td>NaN</td>\n",
       "      <td>NaN</td>\n",
       "    </tr>\n",
       "    <tr>\n",
       "      <th>18</th>\n",
       "      <td>0.984624</td>\n",
       "      <td>0.042721</td>\n",
       "      <td>0.998914</td>\n",
       "      <td>0.993884</td>\n",
       "      <td>0.029606</td>\n",
       "      <td>0.999920</td>\n",
       "      <td>NaN</td>\n",
       "      <td>NaN</td>\n",
       "      <td>NaN</td>\n",
       "    </tr>\n",
       "    <tr>\n",
       "      <th>19</th>\n",
       "      <td>0.988468</td>\n",
       "      <td>0.032843</td>\n",
       "      <td>0.999308</td>\n",
       "      <td>0.993884</td>\n",
       "      <td>0.014477</td>\n",
       "      <td>0.999920</td>\n",
       "      <td>0.45383</td>\n",
       "      <td>1.491215</td>\n",
       "      <td>0.946517</td>\n",
       "    </tr>\n",
       "  </tbody>\n",
       "</table>\n",
       "</div>"
      ],
      "text/plain": [
       "       train_acc  train_loss  train_roc_auc  validation_acc  validation_loss  \\\n",
       "Epoch                                                                          \n",
       "0       0.977824    0.060320       0.997710        0.996942         0.017966   \n",
       "1       0.972206    0.068002       0.997223        0.972477         0.120383   \n",
       "2       0.954760    0.129686       0.990807        0.724771         0.556716   \n",
       "3       0.978415    0.056467       0.998036        0.993884         0.018470   \n",
       "4       0.975458    0.069740       0.996972        0.993884         0.031604   \n",
       "5       0.987581    0.028787       0.999482        0.993884         0.013805   \n",
       "6       0.984920    0.042584       0.998743        0.975535         0.045114   \n",
       "7       0.986103    0.037305       0.999098        0.984709         0.044319   \n",
       "8       0.978711    0.061380       0.997447        0.984709         0.076104   \n",
       "9       0.979302    0.047399       0.998653        0.978593         0.058677   \n",
       "10      0.985216    0.036534       0.999190        0.993884         0.010667   \n",
       "11      0.984033    0.038792       0.998924        0.987768         0.021377   \n",
       "12      0.979598    0.069256       0.996663        0.993884         0.017296   \n",
       "13      0.977824    0.053092       0.998076        0.993884         0.020706   \n",
       "14      0.992608    0.026852       0.999460        0.996942         0.009337   \n",
       "15      0.992904    0.025831       0.999558        0.993884         0.013394   \n",
       "16      0.989947    0.024752       0.999620        0.990826         0.019440   \n",
       "17      0.981963    0.047910       0.998419        0.990826         0.027291   \n",
       "18      0.984624    0.042721       0.998914        0.993884         0.029606   \n",
       "19      0.988468    0.032843       0.999308        0.993884         0.014477   \n",
       "\n",
       "       validation_roc_auc  test_acc  test_loss  test_roc_auc  \n",
       "Epoch                                                         \n",
       "0                0.999920       NaN        NaN           NaN  \n",
       "1                0.999280       NaN        NaN           NaN  \n",
       "2                0.997081       NaN        NaN           NaN  \n",
       "3                0.999840       NaN        NaN           NaN  \n",
       "4                0.999920       NaN        NaN           NaN  \n",
       "5                0.999800       NaN        NaN           NaN  \n",
       "6                0.999640       NaN        NaN           NaN  \n",
       "7                1.000000       NaN        NaN           NaN  \n",
       "8                0.999560       NaN        NaN           NaN  \n",
       "9                0.999600       NaN        NaN           NaN  \n",
       "10               0.999920       NaN        NaN           NaN  \n",
       "11               0.999760       NaN        NaN           NaN  \n",
       "12               0.999840       NaN        NaN           NaN  \n",
       "13               0.999720       NaN        NaN           NaN  \n",
       "14               0.999960       NaN        NaN           NaN  \n",
       "15               0.999920       NaN        NaN           NaN  \n",
       "16               0.999920       NaN        NaN           NaN  \n",
       "17               0.999840       NaN        NaN           NaN  \n",
       "18               0.999920       NaN        NaN           NaN  \n",
       "19               0.999920   0.45383   1.491215      0.946517  "
      ]
     },
     "execution_count": 29,
     "metadata": {},
     "output_type": "execute_result"
    }
   ],
   "source": [
    "log_df"
   ]
  },
  {
   "cell_type": "code",
   "execution_count": 36,
   "metadata": {},
   "outputs": [
    {
     "data": {
      "image/png": "[encoded data removed]",
      "text/plain": [
       "<Figure size 432x288 with 1 Axes>"
      ]
     },
     "metadata": {
      "needs_background": "light"
     },
     "output_type": "display_data"
    },
    {
     "data": {
      "image/png": "[encoded data removed]",
      "text/plain": [
       "<Figure size 432x288 with 1 Axes>"
      ]
     },
     "metadata": {
      "needs_background": "light"
     },
     "output_type": "display_data"
    },
    {
     "data": {
      "image/png": "[encoded data removed]",
      "text/plain": [
       "<Figure size 432x288 with 1 Axes>"
      ]
     },
     "metadata": {
      "needs_background": "light"
     },
     "output_type": "display_data"
    }
   ],
   "source": [
    "for metric in ['loss', 'acc', 'roc_auc']:\n",
    "    plt.plot(log_df[f'train_{metric}'].values, label='Train set')\n",
    "    plt.plot(log_df[f'validation_{metric}'].values, label='Validation set')\n",
    "    test_vals = log_df[f'test_{metric}'].values\n",
    "    plt.plot(np.zeros_like(test_vals) + test_vals[-1], label='Test set', linestyle='dashed')\n",
    "    plt.axvline(np.argmin(log_df[f'validation_loss'].values), label='Early stopping epoch', linestyle='dashed', color='red')\n",
    "    plt.legend()\n",
    "    plt.title(f'Tile-level {metric}')\n",
    "    plt.xlabel('Epoch')\n",
    "    plt.ylabel(metric.capitalize())\n",
    "    plt.show()"
   ]
  },
  {
   "cell_type": "markdown",
   "metadata": {},
   "source": [
    "### On improving performance\n",
    "\n",
    "As expected, the train set performance more or less steadily increased during training, the validation set performance increased at first and then leveled off, and the final test set performance on previously unseen patient data was worse than both training and validation. These trends may be inconsistent or hard to make out on such a small dataset, but tend to hold true as the dataset grows larger. In order to help prevent overfitting, stopped training early when the validation loss stopped improving for a few epochs in a row.\n",
    "\n",
    "If we want to further improve performance, the best thing to do will be to tune the hyperparameters. These can include:\n",
    "- Model architecture\n",
    "- Optimizer\n",
    "- Learning rate\n",
    "- Other optimizer parameters\n",
    "- Number of frozen layers (not covered in this notebook)\n",
    "- Literally any parameter that can be tuned\n",
    "\n",
    "Hyperparameter tuning can be done systematically by running many experiments with different combinations of parameters, or by hand using one's intuition. If the model is overfitting too much, one can:\n",
    "- Use a smaller model\n",
    "- Increase the learning rate\n",
    "- Use a larger validation set for early stopping\n",
    "- Freeze more layers\n",
    "\n",
    "Alternatively, if the model is underfitting, one can:\n",
    "- Increase the size of the model\n",
    "- Decrease the learning rate\n",
    "- Increase the amount of train data\n",
    "- Freeze fewer layers\n",
    "- Train for longer\n",
    "\n",
    "Finally, if training is taking too long, one might consider:\n",
    "- Using a smaller model\n",
    "- Using a learning rate scheduler to adjust the learning rate over the course of training\n",
    "- Freezing more layers\n",
    "- Subsampling the training data\n",
    "- Mixed-precision training and GPU parallelization (See: [Miscellaneous notes](#Miscellaneous-notes))"
   ]
  },
  {
   "cell_type": "markdown",
   "metadata": {},
   "source": [
    "# WSI annotations\n",
    "\n",
    "TODO"
   ]
  },
  {
   "cell_type": "code",
   "execution_count": 89,
   "metadata": {},
   "outputs": [
    {
     "name": "stdout",
     "output_type": "stream",
     "text": [
      "Raw annotation text:\n",
      "\n",
      "[Point: 62702.73828125, 38584.08984375, Point: 62580.07421875, 38584.5, Point: 62457.60546875, 38585.7265625, Point: 62457.60546875, 38585.7265625, Point: 28928.755859375, 38597.2734375, Point: 23649.44921875, 39600.58984375, Point: 20487.646484375, 41075.265625, Point: 15347.9248046875, 45633.22265625, Point: 12268.6630859375, 51854.02734375, Point: 11682.4375, 55407.265625, Point: 12327.9560546875, 61483.45703125, Point: 15480.361328125, 67661.0546875, Point: 20487.646484375, 72048.390625, Point: 27109.48828125, 74365.15625, Point: 37054.49609375, 74779.2734375, Point: 62813.01953125, 74539.2421875, Point: 62813.01953125, 74539.2421875, Point: 62934.34375, 74538.109375, Point: 62934.30078125, 74538.109375, Point: 62935.09765625, 74538.1015625, Point: 62935.11328125, 74538.1015625, Point: 62935.11328125, 74538.1015625, Point: 63123.38671875, 74534.75, Point: 63311.18359375, 74529.46875, Point: 63498.49609375, 74522.2734375, Point: 63685.3125, 74513.1796875, Point: 63871.62890625, 74502.1796875, Point: 64057.42578125, 74489.296875, Point: 64242.703125, 74474.5390625, Point: 64427.44921875, 74457.90625, Point: 64611.65234375, 74439.421875, Point: 64795.3046875, 74419.0859375, Point: 64978.39453125, 74396.9140625, Point: 65160.9140625, 74372.90625, Point: 65342.85546875, 74347.0859375, Point: 65524.20703125, 74319.4453125, Point: 65704.9609375, 74290.0078125, Point: 65885.109375, 74258.7734375, Point: 66064.6328125, 74225.765625, Point: 66243.53125, 74190.9765625, Point: 66421.796875, 74154.421875, Point: 66599.4140625, 74116.1171875, Point: 66776.375, 74076.0703125, Point: 66952.671875, 74034.2890625, Point: 67128.296875, 73990.7734375, Point: 67303.234375, 73945.546875, Point: 67477.484375, 73898.609375, Point: 67651.0234375, 73849.9765625, Point: 67823.8515625, 73799.65625, Point: 67995.9609375, 73747.6640625, Point: 68167.34375, 73693.9921875, Point: 68337.9765625, 73638.6640625, Point: 68507.8671875, 73581.6875, Point: 68676.9921875, 73523.0703125, Point: 68845.3515625, 73462.8203125, Point: 69012.9296875, 73400.9453125, Point: 69179.71875, 73337.4609375, Point: 69345.7109375, 73272.375, Point: 69510.8984375, 73205.6953125, Point: 69675.2734375, 73137.4296875, Point: 69838.8125, 73067.59375, Point: 70001.5234375, 72996.1875, Point: 70163.390625, 72923.2265625, Point: 70324.3984375, 72848.7265625, Point: 70484.546875, 72772.6796875, Point: 70643.8203125, 72695.109375, Point: 70802.2109375, 72616.0234375, Point: 70959.7109375, 72535.4296875, Point: 71116.3046875, 72453.3359375, Point: 71271.9921875, 72369.7578125, Point: 71426.7578125, 72284.6875, Point: 71580.59375, 72198.15625, Point: 71733.4921875, 72110.1640625, Point: 71885.4375, 72020.71875, Point: 72036.421875, 71929.828125, Point: 72186.4453125, 71837.5078125, Point: 72335.484375, 71743.765625, Point: 72483.546875, 71648.609375, Point: 72630.6015625, 71552.0546875, Point: 72776.65625, 71454.09375, Point: 72921.6953125, 71354.7578125, Point: 73065.7109375, 71254.0390625, Point: 73208.6953125, 71151.9609375, Point: 73350.6328125, 71048.515625, Point: 73491.515625, 70943.734375, Point: 73631.3359375, 70837.609375, Point: 73631.3359375, 70837.609375, Point: 73631.34375, 70837.609375, Point: 73631.3515625, 70837.6015625, Point: 73631.3515625, 70837.6015625, Point: 73801.96875, 70705.1640625, Point: 73970.9375, 70570.734375, Point: 74138.2578125, 70434.328125, Point: 74303.890625, 70295.9609375, Point: 74467.8359375, 70155.6484375, Point: 74630.0703125, 70013.4140625, Point: 74790.5703125, 69869.2734375, Point: 74949.3203125, 69723.25, Point: 75106.3125, 69575.3515625, Point: 75261.515625, 69425.59375, Point: 75414.921875, 69274.0078125, Point: 75566.515625, 69120.6015625, Point: 75716.265625, 68965.3984375, Point: 75864.1640625, 68808.40625, Point: 76010.1953125, 68649.65625, Point: 76154.328125, 68489.1484375, Point: 76296.5625, 68326.921875, Point: 76436.875, 68162.9765625, Point: 76575.2421875, 67997.3359375, Point: 76711.6484375, 67830.0234375, Point: 76846.078125, 67661.0546875, Point: 76978.515625, 67490.4375, Point: 77108.9375, 67318.1953125, Point: 77237.3359375, 67144.3515625, Point: 77363.6875, 66968.9140625, Point: 77487.96875, 66791.9140625, Point: 77610.1640625, 66613.3515625, Point: 77730.265625, 66433.2578125, Point: 77848.2421875, 66251.6484375, Point: 77964.09375, 66068.5390625, Point: 78077.78125, 65883.9375, Point: 78189.3046875, 65697.8828125, Point: 78298.6328125, 65510.37109375, Point: 78405.765625, 65321.4375, Point: 78510.6640625, 65131.0859375, Point: 78613.328125, 64939.34375, Point: 78713.7265625, 64746.22265625, Point: 78811.8515625, 64551.7421875, Point: 78907.6796875, 64355.921875, Point: 79001.1953125, 64158.77734375, Point: 79092.3828125, 63960.328125, Point: 79181.2265625, 63760.5859375, Point: 79267.6953125, 63559.578125, Point: 79351.7890625, 63357.3125, Point: 79433.484375, 63153.8125, Point: 79512.7578125, 62949.09765625, Point: 79589.59375, 62743.1796875, Point: 79663.9765625, 62536.078125, Point: 79735.890625, 62327.8125, Point: 79805.3125, 62118.40234375, Point: 79872.234375, 61907.859375, Point: 79936.625, 61696.203125, Point: 79998.484375, 61483.45703125, Point: 80057.7734375, 61269.62890625, Point: 80114.4921875, 61054.74609375, Point: 80168.609375, 60838.8203125, Point: 80220.125, 60621.87109375, Point: 80269.0, 60403.9140625, Point: 80315.234375, 60184.96875, Point: 80358.796875, 59965.0546875, Point: 80399.6875, 59744.1875, Point: 80437.8671875, 59522.3828125, Point: 80473.3359375, 59299.66015625, Point: 80506.0625, 59076.0390625, Point: 80506.0625, 59076.0390625, Point: 80506.0625, 59076.0390625, Point: 80506.0625, 59076.03515625, Point: 80506.0625, 59076.03515625, Point: 80526.96875, 58921.78125, Point: 80546.5625, 58767.1171875, Point: 80564.8515625, 58612.046875, Point: 80581.8203125, 58456.578125, Point: 80597.4609375, 58300.71484375, Point: 80611.7734375, 58144.4609375, Point: 80624.75, 57987.82421875, Point: 80636.3828125, 57830.8125, Point: 80646.671875, 57673.4296875, Point: 80655.6015625, 57515.6796875, Point: 80663.1796875, 57357.5703125, Point: 80669.390625, 57199.10546875, Point: 80674.234375, 57040.296875, Point: 80677.6953125, 56881.140625, Point: 80679.78125, 56721.6484375, Point: 80680.4765625, 56561.828125, Point: 80679.8984375, 56416.5234375, Point: 80678.1796875, 56271.48828125, Point: 80675.3125, 56126.734375, Point: 80671.3125, 55982.26171875, Point: 80666.171875, 55838.07421875, Point: 80659.90625, 55694.1796875, Point: 80652.515625, 55550.578125, Point: 80644.0, 55407.2734375, Point: 80644.0, 55407.2734375, Point: 80644.0, 55407.265625, Point: 80644.0, 55407.2578125, Point: 80644.0, 55407.2578125, Point: 80628.0546875, 55178.60546875, Point: 80609.265625, 54950.74609375, Point: 80587.65625, 54723.703125, Point: 80563.2421875, 54497.484375, Point: 80536.0390625, 54272.1171875, Point: 80506.0625, 54047.61328125, Point: 80473.328125, 53823.9921875, Point: 80437.8671875, 53601.26953125, Point: 80399.6796875, 53379.46484375, Point: 80358.796875, 53158.59765625, Point: 80315.234375, 52938.68359375, Point: 80269.0, 52719.7421875, Point: 80220.1171875, 52501.78515625, Point: 80168.609375, 52284.8359375, Point: 80114.4921875, 52068.91015625, Point: 80057.7734375, 51854.02734375, Point: 80057.7734375, 51854.02734375, Point: 80057.7734375, 51854.02734375, Point: 80057.7734375, 51854.02734375, Point: 80057.7734375, 51854.02734375, Point: 79998.4765625, 51640.203125, Point: 79936.625, 51427.453125, Point: 79872.234375, 51215.80078125, Point: 79805.3125, 51005.2578125, Point: 79735.890625, 50795.84765625, Point: 79663.9765625, 50587.58203125, Point: 79589.59375, 50380.484375, Point: 79512.7578125, 50174.56640625, Point: 79433.484375, 49969.84765625, Point: 79351.7890625, 49766.3515625, Point: 79267.6953125, 49564.0859375, Point: 79181.2265625, 49363.078125, Point: 79092.3828125, 49163.3359375, Point: 79001.1953125, 48964.88671875, Point: 78907.6796875, 48767.7421875, Point: 78811.8515625, 48571.921875, Point: 78713.7265625, 48377.44140625, Point: 78613.328125, 48184.32421875, Point: 78510.6640625, 47992.578125, Point: 78405.765625, 47802.23046875, Point: 78298.640625, 47613.29296875, Point: 78189.3046875, 47425.78515625, Point: 78077.78125, 47239.7265625, Point: 77964.09375, 47055.1328125, Point: 77848.25, 46872.01953125, Point: 77730.265625, 46690.41015625, Point: 77610.171875, 46510.31640625, Point: 77487.96875, 46331.7578125, Point: 77363.6875, 46154.75390625, Point: 77237.34375, 45979.3203125, Point: 77108.9453125, 45805.47265625, Point: 76978.5234375, 45633.234375, Point: 76978.5234375, 45633.234375, Point: 76978.515625, 45633.22265625, Point: 76978.5078125, 45633.21484375, Point: 76978.5078125, 45633.21484375, Point: 76846.0703125, 45462.6015625, Point: 76711.640625, 45293.625, Point: 76575.234375, 45126.3125, Point: 76436.8671875, 44960.67578125, Point: 76296.5546875, 44796.73046875, Point: 76154.3203125, 44634.5, Point: 76010.1796875, 44474.0, Point: 75864.15625, 44315.24609375, Point: 75716.2578125, 44158.2578125, Point: 75566.5, 44003.05078125, Point: 75414.9140625, 43849.64453125, Point: 75261.5078125, 43698.05859375, Point: 75106.3046875, 43548.3046875, Point: 74949.3125, 43400.40625, Point: 74790.5625, 43254.37890625, Point: 74630.0625, 43110.23828125, Point: 74467.828125, 42968.0078125, Point: 74303.8828125, 42827.69921875, Point: 74138.25, 42689.33203125, Point: 73970.9296875, 42552.921875, Point: 73801.9609375, 42418.4921875, Point: 73631.34375, 42286.0546875, Point: 73459.1015625, 42155.62890625, Point: 73285.2578125, 42027.234375, Point: 73109.828125, 41900.88671875, Point: 72932.8203125, 41776.60546875, Point: 72754.265625, 41654.40625, Point: 72574.171875, 41534.3046875, Point: 72392.5546875, 41416.32421875, Point: 72209.4453125, 41300.48046875, Point: 72024.8515625, 41186.78515625, Point: 71838.7890625, 41075.265625, Point: 71838.7890625, 41075.265625, Point: 71838.7890625, 41075.265625, Point: 71838.78125, 41075.26171875, Point: 71838.78125, 41075.26171875, Point: 71712.9609375, 41001.5625, Point: 71586.484375, 40928.85546875, Point: 71459.375, 40857.1484375, Point: 71331.625, 40786.4453125, Point: 71203.2421875, 40716.75, Point: 71074.2265625, 40648.0703125, Point: 70944.6015625, 40580.41015625, Point: 70814.3515625, 40513.77734375, Point: 70683.4921875, 40448.171875, Point: 70552.03125, 40383.60546875, Point: 70419.96875, 40320.08203125, Point: 70287.3125, 40257.6015625, Point: 70154.0703125, 40196.17578125, Point: 70020.2421875, 40135.80859375, Point: 69885.828125, 40076.5, Point: 69750.8515625, 40018.265625, Point: 69615.296875, 39961.1015625, Point: 69479.1875, 39905.015625, Point: 69342.5234375, 39850.015625, Point: 69205.3046875, 39796.1015625, Point: 69067.5390625, 39743.2890625, Point: 68929.2265625, 39691.5703125, Point: 68790.3828125, 39640.9609375, Point: 68651.015625, 39591.46484375, Point: 68511.1171875, 39543.08203125, Point: 68370.6953125, 39495.8203125, Point: 68229.765625, 39449.6875, Point: 68088.328125, 39404.6875, Point: 67946.3828125, 39360.82421875, Point: 67803.9375, 39318.10546875, Point: 67661.0, 39276.53515625, Point: 67517.578125, 39236.1171875, Point: 67373.6796875, 39196.859375, Point: 67229.296875, 39158.765625, Point: 67084.4453125, 39121.84375, Point: 66939.125, 39086.09765625, Point: 66793.34375, 39051.53125, Point: 66647.109375, 39018.1484375, Point: 66500.4296875, 38985.9609375, Point: 66353.296875, 38954.96875, Point: 66205.7265625, 38925.17578125, Point: 66057.7265625, 38896.59375, Point: 65909.296875, 38869.22265625, Point: 65760.4453125, 38843.0703125, Point: 65611.171875, 38818.140625, Point: 65461.48828125, 38794.44140625, Point: 65311.39453125, 38771.9765625, Point: 65160.90234375, 38750.75, Point: 65010.01171875, 38730.76953125, Point: 64858.734375, 38712.0390625, Point: 64707.06640625, 38694.56640625, Point: 64555.01953125, 38678.3515625, Point: 64402.59765625, 38663.40234375, Point: 64249.8046875, 38649.7265625, Point: 64096.65234375, 38637.328125, Point: 63943.13671875, 38626.2109375, Point: 63789.265625, 38616.3828125, Point: 63635.05078125, 38607.84765625, Point: 63480.4921875, 38600.609375, Point: 63325.59375, 38594.67578125, Point: 63170.3671875, 38590.0546875, Point: 63014.80859375, 38586.7421875, Point: 62858.93359375, 38584.75390625, Point: 62702.73828125, 38584.08984375]\n",
      "\n",
      "\n",
      "Decoded annotation data:\n",
      "\n",
      "[[62702.73828125 38584.08984375]\n",
      " [62580.07421875 38584.5       ]\n",
      " [62457.60546875 38585.7265625 ]\n",
      " [62457.60546875 38585.7265625 ]\n",
      " [28928.75585938 38597.2734375 ]\n",
      " [23649.44921875 39600.58984375]\n",
      " [20487.64648438 41075.265625  ]\n",
      " [15347.92480469 45633.22265625]\n",
      " [12268.66308594 51854.02734375]\n",
      " [11682.4375     55407.265625  ]\n",
      " [12327.95605469 61483.45703125]\n",
      " [15480.36132812 67661.0546875 ]\n",
      " [20487.64648438 72048.390625  ]\n",
      " [27109.48828125 74365.15625   ]\n",
      " [37054.49609375 74779.2734375 ]\n",
      " [62813.01953125 74539.2421875 ]\n",
      " [62813.01953125 74539.2421875 ]\n",
      " [62934.34375    74538.109375  ]\n",
      " [62934.30078125 74538.109375  ]\n",
      " [62935.09765625 74538.1015625 ]\n",
      " [62935.11328125 74538.1015625 ]\n",
      " [62935.11328125 74538.1015625 ]\n",
      " [63123.38671875 74534.75      ]\n",
      " [63311.18359375 74529.46875   ]\n",
      " [63498.49609375 74522.2734375 ]\n",
      " [63685.3125     74513.1796875 ]\n",
      " [63871.62890625 74502.1796875 ]\n",
      " [64057.42578125 74489.296875  ]\n",
      " [64242.703125   74474.5390625 ]\n",
      " [64427.44921875 74457.90625   ]\n",
      " [64611.65234375 74439.421875  ]\n",
      " [64795.3046875  74419.0859375 ]\n",
      " [64978.39453125 74396.9140625 ]\n",
      " [65160.9140625  74372.90625   ]\n",
      " [65342.85546875 74347.0859375 ]\n",
      " [65524.20703125 74319.4453125 ]\n",
      " [65704.9609375  74290.0078125 ]\n",
      " [65885.109375   74258.7734375 ]\n",
      " [66064.6328125  74225.765625  ]\n",
      " [66243.53125    74190.9765625 ]\n",
      " [66421.796875   74154.421875  ]\n",
      " [66599.4140625  74116.1171875 ]\n",
      " [66776.375      74076.0703125 ]\n",
      " [66952.671875   74034.2890625 ]\n",
      " [67128.296875   73990.7734375 ]\n",
      " [67303.234375   73945.546875  ]\n",
      " [67477.484375   73898.609375  ]\n",
      " [67651.0234375  73849.9765625 ]\n",
      " [67823.8515625  73799.65625   ]\n",
      " [67995.9609375  73747.6640625 ]\n",
      " [68167.34375    73693.9921875 ]\n",
      " [68337.9765625  73638.6640625 ]\n",
      " [68507.8671875  73581.6875    ]\n",
      " [68676.9921875  73523.0703125 ]\n",
      " [68845.3515625  73462.8203125 ]\n",
      " [69012.9296875  73400.9453125 ]\n",
      " [69179.71875    73337.4609375 ]\n",
      " [69345.7109375  73272.375     ]\n",
      " [69510.8984375  73205.6953125 ]\n",
      " [69675.2734375  73137.4296875 ]\n",
      " [69838.8125     73067.59375   ]\n",
      " [70001.5234375  72996.1875    ]\n",
      " [70163.390625   72923.2265625 ]\n",
      " [70324.3984375  72848.7265625 ]\n",
      " [70484.546875   72772.6796875 ]\n",
      " [70643.8203125  72695.109375  ]\n",
      " [70802.2109375  72616.0234375 ]\n",
      " [70959.7109375  72535.4296875 ]\n",
      " [71116.3046875  72453.3359375 ]\n",
      " [71271.9921875  72369.7578125 ]\n",
      " [71426.7578125  72284.6875    ]\n",
      " [71580.59375    72198.15625   ]\n",
      " [71733.4921875  72110.1640625 ]\n",
      " [71885.4375     72020.71875   ]\n",
      " [72036.421875   71929.828125  ]\n",
      " [72186.4453125  71837.5078125 ]\n",
      " [72335.484375   71743.765625  ]\n",
      " [72483.546875   71648.609375  ]\n",
      " [72630.6015625  71552.0546875 ]\n",
      " [72776.65625    71454.09375   ]\n",
      " [72921.6953125  71354.7578125 ]\n",
      " [73065.7109375  71254.0390625 ]\n",
      " [73208.6953125  71151.9609375 ]\n",
      " [73350.6328125  71048.515625  ]\n",
      " [73491.515625   70943.734375  ]\n",
      " [73631.3359375  70837.609375  ]\n",
      " [73631.3359375  70837.609375  ]\n",
      " [73631.34375    70837.609375  ]\n",
      " [73631.3515625  70837.6015625 ]\n",
      " [73631.3515625  70837.6015625 ]\n",
      " [73801.96875    70705.1640625 ]\n",
      " [73970.9375     70570.734375  ]\n",
      " [74138.2578125  70434.328125  ]\n",
      " [74303.890625   70295.9609375 ]\n",
      " [74467.8359375  70155.6484375 ]\n",
      " [74630.0703125  70013.4140625 ]\n",
      " [74790.5703125  69869.2734375 ]\n",
      " [74949.3203125  69723.25      ]\n",
      " [75106.3125     69575.3515625 ]\n",
      " [75261.515625   69425.59375   ]\n",
      " [75414.921875   69274.0078125 ]\n",
      " [75566.515625   69120.6015625 ]\n",
      " [75716.265625   68965.3984375 ]\n",
      " [75864.1640625  68808.40625   ]\n",
      " [76010.1953125  68649.65625   ]\n",
      " [76154.328125   68489.1484375 ]\n",
      " [76296.5625     68326.921875  ]\n",
      " [76436.875      68162.9765625 ]\n",
      " [76575.2421875  67997.3359375 ]\n",
      " [76711.6484375  67830.0234375 ]\n",
      " [76846.078125   67661.0546875 ]\n",
      " [76978.515625   67490.4375    ]\n",
      " [77108.9375     67318.1953125 ]\n",
      " [77237.3359375  67144.3515625 ]\n",
      " [77363.6875     66968.9140625 ]\n",
      " [77487.96875    66791.9140625 ]\n",
      " [77610.1640625  66613.3515625 ]\n",
      " [77730.265625   66433.2578125 ]\n",
      " [77848.2421875  66251.6484375 ]\n",
      " [77964.09375    66068.5390625 ]\n",
      " [78077.78125    65883.9375    ]\n",
      " [78189.3046875  65697.8828125 ]\n",
      " [78298.6328125  65510.37109375]\n",
      " [78405.765625   65321.4375    ]\n",
      " [78510.6640625  65131.0859375 ]\n",
      " [78613.328125   64939.34375   ]\n",
      " [78713.7265625  64746.22265625]\n",
      " [78811.8515625  64551.7421875 ]\n",
      " [78907.6796875  64355.921875  ]\n",
      " [79001.1953125  64158.77734375]\n",
      " [79092.3828125  63960.328125  ]\n",
      " [79181.2265625  63760.5859375 ]\n",
      " [79267.6953125  63559.578125  ]\n",
      " [79351.7890625  63357.3125    ]\n",
      " [79433.484375   63153.8125    ]\n",
      " [79512.7578125  62949.09765625]\n",
      " [79589.59375    62743.1796875 ]\n",
      " [79663.9765625  62536.078125  ]\n",
      " [79735.890625   62327.8125    ]\n",
      " [79805.3125     62118.40234375]\n",
      " [79872.234375   61907.859375  ]\n",
      " [79936.625      61696.203125  ]\n",
      " [79998.484375   61483.45703125]\n",
      " [80057.7734375  61269.62890625]\n",
      " [80114.4921875  61054.74609375]\n",
      " [80168.609375   60838.8203125 ]\n",
      " [80220.125      60621.87109375]\n",
      " [80269.         60403.9140625 ]\n",
      " [80315.234375   60184.96875   ]\n",
      " [80358.796875   59965.0546875 ]\n",
      " [80399.6875     59744.1875    ]\n",
      " [80437.8671875  59522.3828125 ]\n",
      " [80473.3359375  59299.66015625]\n",
      " [80506.0625     59076.0390625 ]\n",
      " [80506.0625     59076.0390625 ]\n",
      " [80506.0625     59076.0390625 ]\n",
      " [80506.0625     59076.03515625]\n",
      " [80506.0625     59076.03515625]\n",
      " [80526.96875    58921.78125   ]\n",
      " [80546.5625     58767.1171875 ]\n",
      " [80564.8515625  58612.046875  ]\n",
      " [80581.8203125  58456.578125  ]\n",
      " [80597.4609375  58300.71484375]\n",
      " [80611.7734375  58144.4609375 ]\n",
      " [80624.75       57987.82421875]\n",
      " [80636.3828125  57830.8125    ]\n",
      " [80646.671875   57673.4296875 ]\n",
      " [80655.6015625  57515.6796875 ]\n",
      " [80663.1796875  57357.5703125 ]\n",
      " [80669.390625   57199.10546875]\n",
      " [80674.234375   57040.296875  ]\n",
      " [80677.6953125  56881.140625  ]\n",
      " [80679.78125    56721.6484375 ]\n",
      " [80680.4765625  56561.828125  ]\n",
      " [80679.8984375  56416.5234375 ]\n",
      " [80678.1796875  56271.48828125]\n",
      " [80675.3125     56126.734375  ]\n",
      " [80671.3125     55982.26171875]\n",
      " [80666.171875   55838.07421875]\n",
      " [80659.90625    55694.1796875 ]\n",
      " [80652.515625   55550.578125  ]\n",
      " [80644.         55407.2734375 ]\n",
      " [80644.         55407.2734375 ]\n",
      " [80644.         55407.265625  ]\n",
      " [80644.         55407.2578125 ]\n",
      " [80644.         55407.2578125 ]\n",
      " [80628.0546875  55178.60546875]\n",
      " [80609.265625   54950.74609375]\n",
      " [80587.65625    54723.703125  ]\n",
      " [80563.2421875  54497.484375  ]\n",
      " [80536.0390625  54272.1171875 ]\n",
      " [80506.0625     54047.61328125]\n",
      " [80473.328125   53823.9921875 ]\n",
      " [80437.8671875  53601.26953125]\n",
      " [80399.6796875  53379.46484375]\n",
      " [80358.796875   53158.59765625]\n",
      " [80315.234375   52938.68359375]\n",
      " [80269.         52719.7421875 ]\n",
      " [80220.1171875  52501.78515625]\n",
      " [80168.609375   52284.8359375 ]\n",
      " [80114.4921875  52068.91015625]\n",
      " [80057.7734375  51854.02734375]\n",
      " [80057.7734375  51854.02734375]\n",
      " [80057.7734375  51854.02734375]\n",
      " [80057.7734375  51854.02734375]\n",
      " [80057.7734375  51854.02734375]\n",
      " [79998.4765625  51640.203125  ]\n",
      " [79936.625      51427.453125  ]\n",
      " [79872.234375   51215.80078125]\n",
      " [79805.3125     51005.2578125 ]\n",
      " [79735.890625   50795.84765625]\n",
      " [79663.9765625  50587.58203125]\n",
      " [79589.59375    50380.484375  ]\n",
      " [79512.7578125  50174.56640625]\n",
      " [79433.484375   49969.84765625]\n",
      " [79351.7890625  49766.3515625 ]\n",
      " [79267.6953125  49564.0859375 ]\n",
      " [79181.2265625  49363.078125  ]\n",
      " [79092.3828125  49163.3359375 ]\n",
      " [79001.1953125  48964.88671875]\n",
      " [78907.6796875  48767.7421875 ]\n",
      " [78811.8515625  48571.921875  ]\n",
      " [78713.7265625  48377.44140625]\n",
      " [78613.328125   48184.32421875]\n",
      " [78510.6640625  47992.578125  ]\n",
      " [78405.765625   47802.23046875]\n",
      " [78298.640625   47613.29296875]\n",
      " [78189.3046875  47425.78515625]\n",
      " [78077.78125    47239.7265625 ]\n",
      " [77964.09375    47055.1328125 ]\n",
      " [77848.25       46872.01953125]\n",
      " [77730.265625   46690.41015625]\n",
      " [77610.171875   46510.31640625]\n",
      " [77487.96875    46331.7578125 ]\n",
      " [77363.6875     46154.75390625]\n",
      " [77237.34375    45979.3203125 ]\n",
      " [77108.9453125  45805.47265625]\n",
      " [76978.5234375  45633.234375  ]\n",
      " [76978.5234375  45633.234375  ]\n",
      " [76978.515625   45633.22265625]\n",
      " [76978.5078125  45633.21484375]\n",
      " [76978.5078125  45633.21484375]\n",
      " [76846.0703125  45462.6015625 ]\n",
      " [76711.640625   45293.625     ]\n",
      " [76575.234375   45126.3125    ]\n",
      " [76436.8671875  44960.67578125]\n",
      " [76296.5546875  44796.73046875]\n",
      " [76154.3203125  44634.5       ]\n",
      " [76010.1796875  44474.        ]\n",
      " [75864.15625    44315.24609375]\n",
      " [75716.2578125  44158.2578125 ]\n",
      " [75566.5        44003.05078125]\n",
      " [75414.9140625  43849.64453125]\n",
      " [75261.5078125  43698.05859375]\n",
      " [75106.3046875  43548.3046875 ]\n",
      " [74949.3125     43400.40625   ]\n",
      " [74790.5625     43254.37890625]\n",
      " [74630.0625     43110.23828125]\n",
      " [74467.828125   42968.0078125 ]\n",
      " [74303.8828125  42827.69921875]\n",
      " [74138.25       42689.33203125]\n",
      " [73970.9296875  42552.921875  ]\n",
      " [73801.9609375  42418.4921875 ]\n",
      " [73631.34375    42286.0546875 ]\n",
      " [73459.1015625  42155.62890625]\n",
      " [73285.2578125  42027.234375  ]\n",
      " [73109.828125   41900.88671875]\n",
      " [72932.8203125  41776.60546875]\n",
      " [72754.265625   41654.40625   ]\n",
      " [72574.171875   41534.3046875 ]\n",
      " [72392.5546875  41416.32421875]\n",
      " [72209.4453125  41300.48046875]\n",
      " [72024.8515625  41186.78515625]\n",
      " [71838.7890625  41075.265625  ]\n",
      " [71838.7890625  41075.265625  ]\n",
      " [71838.7890625  41075.265625  ]\n",
      " [71838.78125    41075.26171875]\n",
      " [71838.78125    41075.26171875]\n",
      " [71712.9609375  41001.5625    ]\n",
      " [71586.484375   40928.85546875]\n",
      " [71459.375      40857.1484375 ]\n",
      " [71331.625      40786.4453125 ]\n",
      " [71203.2421875  40716.75      ]\n",
      " [71074.2265625  40648.0703125 ]\n",
      " [70944.6015625  40580.41015625]\n",
      " [70814.3515625  40513.77734375]\n",
      " [70683.4921875  40448.171875  ]\n",
      " [70552.03125    40383.60546875]\n",
      " [70419.96875    40320.08203125]\n",
      " [70287.3125     40257.6015625 ]\n",
      " [70154.0703125  40196.17578125]\n",
      " [70020.2421875  40135.80859375]\n",
      " [69885.828125   40076.5       ]\n",
      " [69750.8515625  40018.265625  ]\n",
      " [69615.296875   39961.1015625 ]\n",
      " [69479.1875     39905.015625  ]\n",
      " [69342.5234375  39850.015625  ]\n",
      " [69205.3046875  39796.1015625 ]\n",
      " [69067.5390625  39743.2890625 ]\n",
      " [68929.2265625  39691.5703125 ]\n",
      " [68790.3828125  39640.9609375 ]\n",
      " [68651.015625   39591.46484375]\n",
      " [68511.1171875  39543.08203125]\n",
      " [68370.6953125  39495.8203125 ]\n",
      " [68229.765625   39449.6875    ]\n",
      " [68088.328125   39404.6875    ]\n",
      " [67946.3828125  39360.82421875]\n",
      " [67803.9375     39318.10546875]\n",
      " [67661.         39276.53515625]\n",
      " [67517.578125   39236.1171875 ]\n",
      " [67373.6796875  39196.859375  ]\n",
      " [67229.296875   39158.765625  ]\n",
      " [67084.4453125  39121.84375   ]\n",
      " [66939.125      39086.09765625]\n",
      " [66793.34375    39051.53125   ]\n",
      " [66647.109375   39018.1484375 ]\n",
      " [66500.4296875  38985.9609375 ]\n",
      " [66353.296875   38954.96875   ]\n",
      " [66205.7265625  38925.17578125]\n",
      " [66057.7265625  38896.59375   ]\n",
      " [65909.296875   38869.22265625]\n",
      " [65760.4453125  38843.0703125 ]\n",
      " [65611.171875   38818.140625  ]\n",
      " [65461.48828125 38794.44140625]\n",
      " [65311.39453125 38771.9765625 ]\n",
      " [65160.90234375 38750.75      ]\n",
      " [65010.01171875 38730.76953125]\n",
      " [64858.734375   38712.0390625 ]\n",
      " [64707.06640625 38694.56640625]\n",
      " [64555.01953125 38678.3515625 ]\n",
      " [64402.59765625 38663.40234375]\n",
      " [64249.8046875  38649.7265625 ]\n",
      " [64096.65234375 38637.328125  ]\n",
      " [63943.13671875 38626.2109375 ]\n",
      " [63789.265625   38616.3828125 ]\n",
      " [63635.05078125 38607.84765625]\n",
      " [63480.4921875  38600.609375  ]\n",
      " [63325.59375    38594.67578125]\n",
      " [63170.3671875  38590.0546875 ]\n",
      " [63014.80859375 38586.7421875 ]\n",
      " [62858.93359375 38584.75390625]\n",
      " [62702.73828125 38584.08984375]]\n"
     ]
    }
   ],
   "source": [
    "with open('example_annotation.txt', 'r') as file:\n",
    "    raw_annot = file.read()\n",
    "\n",
    "annot = raw_annot.split('\\n')\n",
    "for i in range(len(annot)):\n",
    "    annot[i] = re.sub('[\\[\\]\\n]', '', annot[i])\n",
    "    annot[i] = annot[i].split('Point: ')[1:]\n",
    "annot = annot[0]\n",
    "for i in range(len(annot)):\n",
    "    annot[i] = [float(val) for val in annot[i].split(', ')[:2]]\n",
    "annot = np.array(annot)\n",
    "\n",
    "print(f'Raw annotation text:\\n\\n{raw_annot}\\n')\n",
    "print(f'Decoded annotation data:\\n\\n{annot}')"
   ]
  },
  {
   "cell_type": "code",
   "execution_count": 92,
   "metadata": {},
   "outputs": [
    {
     "data": {
      "image/png": "[encoded data removed]",
      "text/plain": [
       "<Figure size 432x288 with 1 Axes>"
      ]
     },
     "metadata": {
      "needs_background": "light"
     },
     "output_type": "display_data"
    }
   ],
   "source": [
    "wsi_path = list(Path('WSIs').rglob('*.svs'))[0]\n",
    "with OpenSlide(str(wsi_path)) as wsi:\n",
    "    level = wsi.level_count - 1\n",
    "    example_wsi = wsi.read_region(\n",
    "        (0, 0),\n",
    "        level,\n",
    "        wsi.level_dimensions[level]\n",
    "    )\n",
    "    downsample = wsi.level_downsamples[level]\n",
    "    \n",
    "plt.imshow(example_wsi)\n",
    "plt.plot(annot[:, 0] / downsample, annot[:, 1] / downsample, color='black')\n",
    "plt.title('Whole slide image with annotation')\n",
    "plt.show()"
   ]
  }
 ],
 "metadata": {
  "celltoolbar": "Tags",
  "kernelspec": {
   "display_name": "Python 3",
   "language": "python",
   "name": "python3"
  },
  "language_info": {
   "codemirror_mode": {
    "name": "ipython",
    "version": 3
   },
   "file_extension": ".py",
   "mimetype": "text/x-python",
   "name": "python",
   "nbconvert_exporter": "python",
   "pygments_lexer": "ipython3",
   "version": "3.7.10"
  }
 },
 "nbformat": 4,
 "nbformat_minor": 2
}
